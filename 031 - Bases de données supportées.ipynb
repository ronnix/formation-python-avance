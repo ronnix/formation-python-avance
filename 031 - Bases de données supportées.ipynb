{
 "cells": [
  {
   "cell_type": "markdown",
   "metadata": {},
   "source": [
    "# Bases de données supportées\n",
    "\n",
    "Python est capable de parler à la très grande majorité des bases de données existantes.\n",
    "\n",
    "## Bases de données relationnelles\n",
    "\n",
    "- SQLite\n",
    "- Postgres\n",
    "- MySQL / MariaDB\n",
    "- bases ODBC (MS SQL Server, MS Access)\n",
    "- Oracle\n",
    "\n",
    "L'interface des drivers a été standardisée : DB API 2.0 ([PEP 249](https://www.python.org/dev/peps/pep-0249/)).\n",
    "\n",
    "## Bases de données non relationnelles (« NoSQL »)\n",
    "\n",
    "- bases orientées document\n",
    "    - MongoDB\n",
    "    - CouchDB\n",
    "- bases orientées clé-valeur\n",
    "    - Redis\n",
    "    - Cassandra\n",
    "- bases orientées graphe\n",
    "    - Neo4J\n",
    "\n",
    "Chacune a sa propre manière de modéliser et requếter les données, donc les drivers sont beaucoup plus hétérogènes."
   ]
  }
 ],
 "metadata": {
  "kernelspec": {
   "display_name": "Python 3",
   "language": "python",
   "name": "python3"
  },
  "language_info": {
   "codemirror_mode": {
    "name": "ipython",
    "version": 3
   },
   "file_extension": ".py",
   "mimetype": "text/x-python",
   "name": "python",
   "nbconvert_exporter": "python",
   "pygments_lexer": "ipython3",
   "version": "3.7.4"
  }
 },
 "nbformat": 4,
 "nbformat_minor": 4
}
