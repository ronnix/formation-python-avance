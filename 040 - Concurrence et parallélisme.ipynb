{
 "cells": [
  {
   "cell_type": "markdown",
   "metadata": {},
   "source": [
    "# Module 4 : Concurrence et parallélisme\n",
    "\n",
    "- Programmation non bloquante avec les threads\n",
    "    - le GIL et les limites des threads\n",
    "- Exploiter plusieurs cœurs avec le multiprocessing\n",
    "- Entrées-sorties asynchrones avec `asyncio`"
   ]
  },
  {
   "cell_type": "markdown",
   "metadata": {},
   "source": [
    "## Threads\n",
    "\n",
    "- mémoire partagée entre les threads\n",
    "- sections critiques : parties du code qui ne doivent pas être exécutées en même temps par plusieurs threads -> utilisation de locks\n",
    "- GIL : lock qui protège les structures internes de l'interpréteur Python -> parallélisme est limité (sauf exceptions, on ne peut pas avoir deux threads qui exécutent du code Python simultanément)\n",
    "- cas d'utilisation : applications \"IO-bound\"\" (où dominent les entrées-sorties : disque, réseau, utilisateur)\n",
    "\n",
    "## Process\n",
    "\n",
    "- chaque processus a son espace mémoire à lui\n",
    "- pas de problèmes d'accès concurrents à des structures de données\n",
    "- chaque processus a sa propre copie de l'interpréteur Python, et son propre GIL -> on peut réellement exploiter tous les coeurs du CPU\n",
    "- inconvénient : la communication entre les différents processus nécessite l'envoi de messages (copie mémoire, qui peuvent être coûteuses pour des grosses)\n",
    "- cas d'utilisation : applications \"CPU-bound\"(où dominent les temps de calcul)\n",
    "\n",
    "## asyncio\n",
    "\n",
    "- coroutines \"new-style\" (définies avec `async def` et appelées avec `await`)\n",
    "- domaine synchrone de l'application / domaine asynchrone, qui ne se mélangent\n",
    "- boucle d'événements qui orchestre l'exécution des co-routines\n",
    "- cas d'utilisation : applications \"IO-bound\"\" (où dominent les entrées-sorties : disque, réseau, utilisateur)\n"
   ]
  },
  {
   "cell_type": "markdown",
   "metadata": {},
   "source": [
    "## Références\n",
    "\n",
    "- https://docs.python.org/3/library/threading.html\n",
    "- https://docs.python.org/3/library/multiprocessing.html\n",
    "- https://docs.python.org/3/library/concurrent.futures.html\n",
    "\n",
    "- https://docs.python.org/3/library/asyncio.html"
   ]
  }
 ],
 "metadata": {
  "kernelspec": {
   "display_name": "Python 3",
   "language": "python",
   "name": "python3"
  },
  "language_info": {
   "codemirror_mode": {
    "name": "ipython",
    "version": 3
   },
   "file_extension": ".py",
   "mimetype": "text/x-python",
   "name": "python",
   "nbconvert_exporter": "python",
   "pygments_lexer": "ipython3",
   "version": "3.7.4"
  }
 },
 "nbformat": 4,
 "nbformat_minor": 4
}
