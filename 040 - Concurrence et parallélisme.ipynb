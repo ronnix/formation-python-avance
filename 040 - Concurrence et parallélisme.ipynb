{
 "cells": [
  {
   "cell_type": "markdown",
   "metadata": {},
   "source": [
    "# Module 4 : Concurrence et parallélisme\n",
    "\n",
    "- Programmation non bloquante avec les threads\n",
    "    - le GIL et les limites des threads\n",
    "- Exploiter plusieurs cœurs avec le multiprocessing\n",
    "- Entrées-sorties asynchrones avec `asyncio`"
   ]
  },
  {
   "cell_type": "markdown",
   "metadata": {},
   "source": [
    "## Références\n",
    "\n",
    "- https://docs.python.org/3/library/threading.html\n",
    "- https://docs.python.org/3/library/multiprocessing.html\n",
    "- https://docs.python.org/3/library/concurrent.futures.html\n",
    "\n",
    "- https://docs.python.org/3/library/asyncio.html"
   ]
  }
 ],
 "metadata": {
  "kernelspec": {
   "display_name": "Python 3",
   "language": "python",
   "name": "python3"
  },
  "language_info": {
   "codemirror_mode": {
    "name": "ipython",
    "version": 3
   },
   "file_extension": ".py",
   "mimetype": "text/x-python",
   "name": "python",
   "nbconvert_exporter": "python",
   "pygments_lexer": "ipython3",
   "version": "3.7.4"
  }
 },
 "nbformat": 4,
 "nbformat_minor": 4
}
