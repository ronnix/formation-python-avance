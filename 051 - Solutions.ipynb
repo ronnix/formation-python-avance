{
 "cells": [
  {
   "cell_type": "markdown",
   "metadata": {},
   "source": [
    "# Différentes solutions : Tkinter, Qt, GTK, WxWidgets, Kivy ?"
   ]
  },
  {
   "cell_type": "markdown",
   "metadata": {},
   "source": [
    "## Tkinter\n",
    "\n",
    "Basé sur Tcl/Tk, populaire dans les années 1980 et 1990.\n",
    "\n",
    "- avantages :\n",
    "    - multi-plateformes (Windows, Mac, Linux)\n",
    "    - inclus de longue date dans la bibliothèque standard\n",
    "    - stable\n",
    "    - minimal\n",
    "- inconvénients :\n",
    "    - [apparence quelque peu datée](https://duckduckgo.com/?q=tkinter&iax=images&ia=images)\n",
    "    - limité à des widgets simple\n",
    "\n",
    "Références :\n",
    "- https://docs.python.org/3/library/tkinter.html\n",
    "- [Python GUI Programming with Tkinter](https://learning.oreilly.com/library/view/python-gui-programming/9781788835886/)"
   ]
  },
  {
   "cell_type": "markdown",
   "metadata": {},
   "source": [
    "## Qt (via PySide 2)\n",
    "\n",
    "Historique : PyQt → PySide (Qt 4) → PySide 2 (Qt 5)\n",
    "\n",
    "https://wiki.qt.io/Qt_for_Python\n",
    "\n",
    "- cas d'utilisation :\n",
    "    - applications *desktop* pour l'environnement KDE (Linux)\n",
    "    - applications *desktop* multi-plateformes\n",
    "- avantages :\n",
    "    - multi-plateformes (Windows, Mac, Linux)\n",
    "    - API Qt riche et puissante\n",
    "    - thèmes\n",
    "    - officiellement supporté par The Qt Company\n",
    "- inconvénients :\n",
    "    - pas inclus dans la bibliothèque standard\n",
    "    - installation de Qt sur le système nécessaire\n",
    "    - n'utilise pas les widgets natifs\n",
    "    - API *très* riche\n",
    "    - Double-licence commerciale et LGPL : faire attention à l'impact de la licence"
   ]
  },
  {
   "cell_type": "markdown",
   "metadata": {},
   "source": [
    "## GTK (via PyGObject)\n",
    "\n",
    "Historique : PyGtk (GTK+ 2) → PyGObject (PyGtk+ 3 )\n",
    "\n",
    "https://pygobject.readthedocs.io/\n",
    "\n",
    "- cas d'utilisation :\n",
    "    - applications *desktop* pour l'environnement Gnome (Linux)\n",
    "- avantages :\n",
    "    - API riche\n",
    "    - thèmes\n",
    "- inconvénients :\n",
    "    - pas inclus dans la bibliothèque standard\n",
    "    - pas idéal sous Windows ou Mac\n",
    "    - licence LGPL : faire attention à l'impact de la licence"
   ]
  },
  {
   "cell_type": "markdown",
   "metadata": {},
   "source": [
    "## WxWidgets (via WxPython)\n",
    "\n",
    "https://wxpython.org/pages/overview/\n",
    "\n",
    "- cas d'utilisation :\n",
    "    - applications *desktop* multi-plateformes\n",
    "- avantages :\n",
    "    - multi-plateformes (Windows, Mac, Linux)\n",
    "    - API indépendante du toolkit sous-jacent (utilise les widgets natifs)\n",
    "    - API riche\n",
    "    - licence LGPL + exception\n",
    "- inconvénients :\n",
    "    - pas inclus dans la bibliothèque standard\n"
   ]
  },
  {
   "cell_type": "markdown",
   "metadata": {},
   "source": [
    "## Kivy\n",
    "\n",
    "https://kivy.org/#home\n",
    "\n",
    "- cas d'utilisation :\n",
    "    - bornes interactives\n",
    "    - applications sur mobile ou tablette\n",
    "    - applications graphiques\n",
    "- avantages :\n",
    "    - multi-plateformes (Linux, Windows, macOS, **Android**, **iOS**)\n",
    "    - moteur graphique OpenGL ES 2\n",
    "    - support du multi-touch\n",
    "    - nativement Python\n",
    "- inconvénients :\n",
    "    - n'utilise pas les widgets natifs\n",
    "    - poids des applications"
   ]
  }
 ],
 "metadata": {
  "kernelspec": {
   "display_name": "Python 3",
   "language": "python",
   "name": "python3"
  },
  "language_info": {
   "codemirror_mode": {
    "name": "ipython",
    "version": 3
   },
   "file_extension": ".py",
   "mimetype": "text/x-python",
   "name": "python",
   "nbconvert_exporter": "python",
   "pygments_lexer": "ipython3",
   "version": "3.7.4"
  }
 },
 "nbformat": 4,
 "nbformat_minor": 4
}
