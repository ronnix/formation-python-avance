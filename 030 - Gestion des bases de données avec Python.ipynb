{
 "cells": [
  {
   "cell_type": "markdown",
   "metadata": {},
   "source": [
    "# Module 3 : Gestion des bases de données avec Python\n",
    "\n",
    "- [Vue d'ensemble des bases de données supportées](031%20-%20Bases%20de%20données%20supportées.ipynb)\n",
    "    - bases relationnelles\n",
    "    - bases non relationnelles\n",
    "- [Faire du SQL « à la main » avec la DB API](032%20-%20SQL%20%C3%A0%20la%20main%20avec%20la%20DB%20API.ipynb)\n",
    "- Utiliser SQLAlchemy\n",
    "    - [Core : la boîte à outils SQL](033%20-%20SQLAlchemy%20Core.ipynb)\n",
    "    - [ORM : projeter ses tables vers des objets Python](034%20-%20SQLAlchemy%20ORM.ipynb)\n",
    "- Migrations avec Alembic"
   ]
  }
 ],
 "metadata": {
  "kernelspec": {
   "display_name": "Python 3",
   "language": "python",
   "name": "python3"
  },
  "language_info": {
   "codemirror_mode": {
    "name": "ipython",
    "version": 3
   },
   "file_extension": ".py",
   "mimetype": "text/x-python",
   "name": "python",
   "nbconvert_exporter": "python",
   "pygments_lexer": "ipython3",
   "version": "3.7.2"
  }
 },
 "nbformat": 4,
 "nbformat_minor": 2
}
