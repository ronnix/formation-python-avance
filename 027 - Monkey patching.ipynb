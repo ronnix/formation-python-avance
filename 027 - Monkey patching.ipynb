{
 "cells": [
  {
   "cell_type": "markdown",
   "metadata": {},
   "source": [
    "# Monkey patching\n",
    "\n",
    "Motivations :\n",
    "- changer le comportement d'une bibliothèque existante (pas toujours une bonne idée, mais parfois bien pratique)\n",
    "- remplacer une fonction ou un objet par une « doublure » dans un test\n",
    "    - résultat non déterministe\n",
    "    - accès à une ressource extérieure\n",
    "    - traitement particulièrement long"
   ]
  },
  {
   "cell_type": "code",
   "execution_count": 1,
   "metadata": {},
   "outputs": [],
   "source": [
    "#! pip install requests"
   ]
  },
  {
   "cell_type": "code",
   "execution_count": 10,
   "metadata": {},
   "outputs": [
    {
     "data": {
      "text/plain": [
       "['Mozilla and Chan Zuckerberg Initiative to support pip',\n",
       " 'Giving Tuesday 2019',\n",
       " 'Python Software Foundation Fellow Members for Q3 2019',\n",
       " 'Why Sponsor PyCon 2020?',\n",
       " 'Seeking Developers for Paid Contract Improving pip',\n",
       " 'The 2019 Python Developer Survey is here, take a few minutes to complete the survey!',\n",
       " 'CPython Core Developer Sprint 2019',\n",
       " 'Chris Angelico: 2019 Q2 Community Service Award Winner',\n",
       " 'Grants Awarded for Python in Education ',\n",
       " 'Felipe de Morais: 2019 Q2 Community Service Award Winner',\n",
       " 'PyPI Security Q4 2019 Request for Proposals period opens.',\n",
       " 'The Python Software Foundation has updated its Code of Conduct',\n",
       " 'PyPI Security Q4 2019 Request for Information period opens.',\n",
       " 'Python Software Foundation Fellow Members for Q1 & Q2 2019',\n",
       " 'Humble Bundle by No Starch supports the Python Software Foundation!',\n",
       " 'PyPI now supports uploading via API token',\n",
       " '2019 PSF Fundraiser - Thank you & debrief  ',\n",
       " 'The Python Software Foundation is looking for bloggers!',\n",
       " 'PyPI Now Supports Two-Factor Login via WebAuthn',\n",
       " '2019 Board of Directors Election - Voting is Open',\n",
       " 'Python Language Summit Lightning Talks, Part 2',\n",
       " 'Python Language Summit Lightning Talks, Part 1',\n",
       " \"Pablo Galindo Salgado: The Night's Watch is Fixing the CIs in the Darkness for You\",\n",
       " \"Use two-factor auth to improve your PyPI account's security\",\n",
       " '2018 in review!']"
      ]
     },
     "execution_count": 10,
     "metadata": {},
     "output_type": "execute_result"
    }
   ],
   "source": [
    "from xml.etree import ElementTree as ET\n",
    "\n",
    "import requests\n",
    "\n",
    "\n",
    "def actualité_de_la_psf():\n",
    "    resp = requests.get(\"http://feeds.feedburner.com/PythonSoftwareFoundationNews\")\n",
    "    tree = ET.fromstring(resp.text)\n",
    "    return [\n",
    "        node.find(\"{http://www.w3.org/2005/Atom}title\").text\n",
    "        for node in tree.findall(\"{http://www.w3.org/2005/Atom}entry\")\n",
    "    ]\n",
    "\n",
    "\n",
    "actualité_de_la_psf()"
   ]
  },
  {
   "cell_type": "markdown",
   "metadata": {},
   "source": [
    "## Patcher à la main"
   ]
  },
  {
   "cell_type": "code",
   "execution_count": 11,
   "metadata": {},
   "outputs": [],
   "source": [
    "EXEMPLE = \"\"\"\\\n",
    "<?xml version=\"1.0\" encoding=\"UTF-8\"?>\n",
    "<feed xmlns=\"http://www.w3.org/2005/Atom\">\n",
    "  <entry>\n",
    "    <title type=\"text\">Mozilla and Chan Zuckerberg Initiative to support pip</title>\n",
    "  </entry>\n",
    "  <entry>\n",
    "    <title type=\"text\">Giving Tuesday 2019</title>\n",
    "  </entry>\n",
    "</feed>\n",
    "\"\"\""
   ]
  },
  {
   "cell_type": "code",
   "execution_count": 12,
   "metadata": {},
   "outputs": [],
   "source": [
    "class FausseRéponse:\n",
    "    def __init__(self, text):\n",
    "        self.text = text"
   ]
  },
  {
   "cell_type": "code",
   "execution_count": 13,
   "metadata": {},
   "outputs": [],
   "source": [
    "def _get_doublure(*args, **kwargs):\n",
    "    return FausseRéponse(EXEMPLE)"
   ]
  },
  {
   "cell_type": "code",
   "execution_count": 21,
   "metadata": {},
   "outputs": [],
   "source": [
    "import requests\n",
    "\n",
    "\n",
    "def test_actualité_de_la_psf():\n",
    "    _get_original = requests.get  # garder de côté la fonction originale\n",
    "    requests.get = _get_doublure  # la remplacer par notre doublure\n",
    "    try:\n",
    "        titres = actualité_de_la_psf()\n",
    "    finally:\n",
    "        requests.get = _get_original  # remettre en place la fonction originale\n",
    "\n",
    "    assert titres == [\n",
    "        \"Mozilla and Chan Zuckerberg Initiative to support pip\",\n",
    "        \"Giving Tuesday 2019\",\n",
    "    ]\n",
    "    \n",
    "test_actualité_de_la_psf()"
   ]
  },
  {
   "cell_type": "markdown",
   "metadata": {},
   "source": [
    "## Patcher avec `patch`"
   ]
  },
  {
   "cell_type": "code",
   "execution_count": 19,
   "metadata": {},
   "outputs": [],
   "source": [
    "from unittest.mock import patch\n",
    "\n",
    "\n",
    "def test_actualité_de_la_psf():\n",
    "    with patch(\"requests.get\", _get_doublure):\n",
    "        titres = actualité_de_la_psf()\n",
    "\n",
    "    assert titres == [\n",
    "        \"Mozilla and Chan Zuckerberg Initiative to support pip\",\n",
    "        \"Giving Tuesday 2019\",\n",
    "    ]\n",
    "\n",
    "test_actualité_de_la_psf()"
   ]
  },
  {
   "cell_type": "markdown",
   "metadata": {},
   "source": [
    "## Références\n",
    "\n",
    "- https://docs.python.org/3/library/unittest.mock.html#the-patchers"
   ]
  }
 ],
 "metadata": {
  "kernelspec": {
   "display_name": "Python 3",
   "language": "python",
   "name": "python3"
  },
  "language_info": {
   "codemirror_mode": {
    "name": "ipython",
    "version": 3
   },
   "file_extension": ".py",
   "mimetype": "text/x-python",
   "name": "python",
   "nbconvert_exporter": "python",
   "pygments_lexer": "ipython3",
   "version": "3.7.2"
  }
 },
 "nbformat": 4,
 "nbformat_minor": 2
}
