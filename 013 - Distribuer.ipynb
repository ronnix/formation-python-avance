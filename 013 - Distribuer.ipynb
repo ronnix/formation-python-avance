{
 "cells": [
  {
   "cell_type": "markdown",
   "metadata": {},
   "source": [
    "# Distribuer son projet"
   ]
  },
  {
   "cell_type": "markdown",
   "metadata": {},
   "source": [
    "## Créer une distribution source\n",
    "\n",
    "```\n",
    "$ python setup.py sdist\n",
    "```"
   ]
  },
  {
   "cell_type": "markdown",
   "metadata": {},
   "source": [
    "## Créer un *wheel* (distribution binaire)\n",
    "\n",
    "https://wheel.readthedocs.io/\n",
    "\n",
    "Fichier zip qui contient tous les fichiers nécessaires à l'installation directe du paquet sur une plateforme donnée, sans passer par une étape de « build » préalable.\n",
    "\n",
    "Trois types de *wheels* :\n",
    "- *universal wheels* : multi-plateformes (pas d'extensions compilées), supporte Python 2 et 3\n",
    "- *pure python wheels* : multi-plateformes (pas d'extensions compilées)\n",
    "- *platform wheels* : spécifique à une plateforme (contient généralement des extensions compilées)\n",
    "\n",
    "Construire un *wheel* :\n",
    "```\n",
    "$ pip install wheel\n",
    "$ python setup.py bdist_wheel\n",
    "```"
   ]
  },
  {
   "cell_type": "markdown",
   "metadata": {},
   "source": [
    "## Publier sur PyPI"
   ]
  },
  {
   "cell_type": "markdown",
   "metadata": {},
   "source": [
    "### ~~python setup.py upload~~\n",
    "\n",
    "Ancienne méthode : non recommandée."
   ]
  },
  {
   "cell_type": "markdown",
   "metadata": {},
   "source": [
    "### twine\n",
    "\n",
    "https://twine.readthedocs.io/\n",
    "\n",
    "```\n",
    "$ twine upload dist/*\n",
    "```"
   ]
  },
  {
   "cell_type": "markdown",
   "metadata": {},
   "source": [
    "###  flit\n",
    "\n",
    "https://flit.readthedocs.io/en/latest/\n",
    "\n",
    "Nécessite un fichier `pyproject.toml` (qu'on peut générer avec `flit init`) :\n",
    "\n",
    "```\n",
    "$ flit publish\n",
    "```"
   ]
  },
  {
   "cell_type": "markdown",
   "metadata": {},
   "source": [
    "## Générer une version autonome de son application\n",
    "\n",
    "### Principe\n",
    "\n",
    "Plusieurs outils existent pour construire une version autonome, facilement distribuable, de son application.\n",
    "\n",
    "Leur principe est de « figer » un environnement complet, et de construire un exécutable ou un *bundle* qui va embarquer :\n",
    "- l'interpréteur CPython\n",
    "- le code de l'application\n",
    "- toutes les bibliothèques utilisées par l'application\n",
    "- les métadonnées nécessaire spécifiques au système (icône, etc.)\n",
    "\n",
    "### Principaux outils\n",
    "\n",
    "- [py2exe](http://www.py2exe.org/), [pynsist](https://pynsist.readthedocs.io/en/latest/) (Windows)\n",
    "- [py2app](https://py2app.readthedocs.io/en/latest/) (macOS)\n",
    "- [pyinstaller](https://www.pyinstaller.org/), [cx_Freeze](https://anthony-tuininga.github.io/cx_Freeze/) (Windows, macOS, Linux...)\n",
    "- [Briefcase](https://briefcase.readthedocs.io/en/latest/) (Windows, macOS, Linux, iOS, Android...)"
   ]
  },
  {
   "cell_type": "markdown",
   "metadata": {},
   "source": [
    "## Références\n",
    "\n",
    "- https://packaging.python.org/guides/distributing-packages-using-setuptools/#wheels\n",
    "- https://www.python.org/dev/peps/pep-0427/ : *The Wheel Binary Package Format 1.0*\n",
    "- https://realpython.com/pypi-publish-python-package/\n",
    "- https://speakerdeck.com/pycon2015/olivier-grisel-build-and-test-wheel-packages-on-linux-osx-and-windows\n",
    "- https://docs.python-guide.org/shipping/freezing/\n",
    "- https://www.youtube.com/watch?v=5BqAeN-F9Qs (*Shipping Software To Users With Python*, PyCon 2016)"
   ]
  }
 ],
 "metadata": {
  "kernelspec": {
   "display_name": "Python 3",
   "language": "python",
   "name": "python3"
  },
  "language_info": {
   "codemirror_mode": {
    "name": "ipython",
    "version": 3
   },
   "file_extension": ".py",
   "mimetype": "text/x-python",
   "name": "python",
   "nbconvert_exporter": "python",
   "pygments_lexer": "ipython3",
   "version": "3.7.2"
  }
 },
 "nbformat": 4,
 "nbformat_minor": 2
}
