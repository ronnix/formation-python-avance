{
 "cells": [
  {
   "cell_type": "markdown",
   "metadata": {},
   "source": [
    "# Frameworks web"
   ]
  },
  {
   "cell_type": "markdown",
   "metadata": {},
   "source": [
    "## Les grands classiques\n",
    "\n",
    "- [Django](https://www.djangoproject.com/) : le plus populaire et le plus complet\n",
    "- [Flask](https://palletsprojects.com/p/flask/) : modulaire\n",
    "- [Pyramid](https://trypyramid.com/): modulaire et extensible\n",
    "- [Tornado](https://www.tornadoweb.org/) : asynchrone"
   ]
  },
  {
   "cell_type": "markdown",
   "metadata": {},
   "source": [
    "## Les petits nouveaux\n",
    "\n",
    "- synchrones :\n",
    "    - [Falcon](https://falconframework.org/)\n",
    "    - [Masonite](https://github.com/MasoniteFramework/masonite)\n",
    "- asynchrones :\n",
    "    - [Sanic](https://sanicframework.org/) : asyncio + uvloop\n",
    "    - [Starlette](https://www.starlette.io/) : asyncio\n",
    "    - [FastAPI](https://fastapi.tiangolo.com/) : surcouche à Starlette, OpenAPI\n",
    "    - [Responder](https://responder.readthedocs.io/) : surcouche à Starlette, support de GraphQL"
   ]
  },
  {
   "cell_type": "markdown",
   "metadata": {},
   "source": [
    "## Références\n",
    "\n",
    "- [Tutoriel Django](https://docs.djangoproject.com/en/3.0/intro/)\n",
    "- [Test-Driven-Development with Python](https://www.obeythetestinggoat.com/) : TDD + Django"
   ]
  }
 ],
 "metadata": {
  "kernelspec": {
   "display_name": "Python 3",
   "language": "python",
   "name": "python3"
  },
  "language_info": {
   "codemirror_mode": {
    "name": "ipython",
    "version": 3
   },
   "file_extension": ".py",
   "mimetype": "text/x-python",
   "name": "python",
   "nbconvert_exporter": "python",
   "pygments_lexer": "ipython3",
   "version": "3.7.4"
  }
 },
 "nbformat": 4,
 "nbformat_minor": 4
}
