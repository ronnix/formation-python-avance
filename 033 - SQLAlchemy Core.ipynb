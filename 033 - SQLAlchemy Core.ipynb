{
 "cells": [
  {
   "cell_type": "markdown",
   "metadata": {},
   "source": [
    "# SQLAlchemy Core"
   ]
  },
  {
   "cell_type": "code",
   "execution_count": 1,
   "metadata": {},
   "outputs": [
    {
     "name": "stdout",
     "output_type": "stream",
     "text": [
      "Collecting sqlalchemy\n",
      "\u001b[?25l  Downloading https://files.pythonhosted.org/packages/34/5c/0e1d7ad0ca52544bb12f9cb8d5cc454af45821c92160ffedd38db0a317f6/SQLAlchemy-1.3.11.tar.gz (6.0MB)\n",
      "\u001b[K     |████████████████████████████████| 6.0MB 297kB/s eta 0:00:01\n",
      "\u001b[?25hBuilding wheels for collected packages: sqlalchemy\n",
      "  Building wheel for sqlalchemy (setup.py) ... \u001b[?25ldone\n",
      "\u001b[?25h  Created wheel for sqlalchemy: filename=SQLAlchemy-1.3.11-cp37-cp37m-linux_x86_64.whl size=1215082 sha256=5f03524df4b5bbe0c79f057679cacb37291e055c29c1fba25901aeb2a8b74c90\n",
      "  Stored in directory: /home/ronan/.cache/pip/wheels/a3/67/7d/6c41104a1a08ff1a25e260d3edec3ac19203141d1aaa2f0975\n",
      "Successfully built sqlalchemy\n",
      "Installing collected packages: sqlalchemy\n",
      "Successfully installed sqlalchemy-1.3.11\n"
     ]
    }
   ],
   "source": [
    "!pip install sqlalchemy"
   ]
  },
  {
   "cell_type": "markdown",
   "metadata": {},
   "source": [
    "## Établir une connexion"
   ]
  },
  {
   "cell_type": "code",
   "execution_count": 14,
   "metadata": {},
   "outputs": [],
   "source": [
    "from sqlalchemy import create_engine"
   ]
  },
  {
   "cell_type": "code",
   "execution_count": 26,
   "metadata": {},
   "outputs": [],
   "source": [
    "engine = create_engine(\"sqlite:///test.db\")  # la base créée plus tôt via la DB API"
   ]
  },
  {
   "cell_type": "code",
   "execution_count": 29,
   "metadata": {},
   "outputs": [
    {
     "data": {
      "text/plain": [
       "<sqlalchemy.engine.base.Connection at 0x7f33e315a668>"
      ]
     },
     "execution_count": 29,
     "metadata": {},
     "output_type": "execute_result"
    }
   ],
   "source": [
    "conn = engine.connect()\n",
    "conn"
   ]
  },
  {
   "cell_type": "markdown",
   "metadata": {},
   "source": [
    "## Exécuter des requêtes"
   ]
  },
  {
   "cell_type": "markdown",
   "metadata": {},
   "source": [
    "On peut utiliser cette connexion comme une connexion DB API pour faire des requêtes « en dur » :"
   ]
  },
  {
   "cell_type": "code",
   "execution_count": 30,
   "metadata": {},
   "outputs": [
    {
     "data": {
      "text/plain": [
       "[(1, 'banane'),\n",
       " (2, 'poire'),\n",
       " (3, 'framboise'),\n",
       " (4, 'pomme de reinette'),\n",
       " (5, \"pomme d'api\")]"
      ]
     },
     "execution_count": 30,
     "metadata": {},
     "output_type": "execute_result"
    }
   ],
   "source": [
    "cursor = conn.execute(\"SELECT * FROM fruits;\")\n",
    "cursor.fetchall()"
   ]
  },
  {
   "cell_type": "markdown",
   "metadata": {},
   "source": [
    "## Utiliser SQLAlchemy Core pour construire des requêtes\n",
    "\n",
    "**Avantage** : on exprime ses requêtes à plus haut niveau, et SQLAlchemy s'occupe de générer le code SQL en tenant compte du dialecte et des spécificités de la base de données utilisée."
   ]
  },
  {
   "cell_type": "code",
   "execution_count": 31,
   "metadata": {},
   "outputs": [],
   "source": [
    "engine = create_engine(\"sqlite:///:memory:\", echo=True)"
   ]
  },
  {
   "cell_type": "markdown",
   "metadata": {},
   "source": [
    "### Créer une table\n",
    "\n",
    "On peut déclarer la structure de notre table :"
   ]
  },
  {
   "cell_type": "code",
   "execution_count": 32,
   "metadata": {},
   "outputs": [],
   "source": [
    "from sqlalchemy import Table, Column, Integer, String, MetaData\n",
    "\n",
    "metadata = MetaData()\n",
    "\n",
    "fruits_table = Table(\n",
    "    \"fruits\",\n",
    "    metadata,\n",
    "    Column(\"id\", Integer, primary_key=True),\n",
    "    Column(\"nom\", String),\n",
    ")"
   ]
  },
  {
   "cell_type": "markdown",
   "metadata": {},
   "source": [
    "Puis on peut générer les requêtes pour créer les tables déclarées :"
   ]
  },
  {
   "cell_type": "code",
   "execution_count": 33,
   "metadata": {},
   "outputs": [
    {
     "name": "stdout",
     "output_type": "stream",
     "text": [
      "2019-12-04 22:55:06,705 INFO sqlalchemy.engine.base.Engine SELECT CAST('test plain returns' AS VARCHAR(60)) AS anon_1\n",
      "2019-12-04 22:55:06,708 INFO sqlalchemy.engine.base.Engine ()\n",
      "2019-12-04 22:55:06,712 INFO sqlalchemy.engine.base.Engine SELECT CAST('test unicode returns' AS VARCHAR(60)) AS anon_1\n",
      "2019-12-04 22:55:06,713 INFO sqlalchemy.engine.base.Engine ()\n",
      "2019-12-04 22:55:06,715 INFO sqlalchemy.engine.base.Engine PRAGMA main.table_info(\"fruits\")\n",
      "2019-12-04 22:55:06,717 INFO sqlalchemy.engine.base.Engine ()\n",
      "2019-12-04 22:55:06,718 INFO sqlalchemy.engine.base.Engine PRAGMA temp.table_info(\"fruits\")\n",
      "2019-12-04 22:55:06,720 INFO sqlalchemy.engine.base.Engine ()\n",
      "2019-12-04 22:55:06,721 INFO sqlalchemy.engine.base.Engine \n",
      "CREATE TABLE fruits (\n",
      "\tid INTEGER NOT NULL, \n",
      "\tnom VARCHAR, \n",
      "\tPRIMARY KEY (id)\n",
      ")\n",
      "\n",
      "\n",
      "2019-12-04 22:55:06,723 INFO sqlalchemy.engine.base.Engine ()\n",
      "2019-12-04 22:55:06,725 INFO sqlalchemy.engine.base.Engine COMMIT\n"
     ]
    }
   ],
   "source": [
    "metadata.create_all(engine)"
   ]
  },
  {
   "cell_type": "markdown",
   "metadata": {},
   "source": [
    "### Insérer des données\n",
    "\n",
    "On peut insérer une ligne dans la table :"
   ]
  },
  {
   "cell_type": "code",
   "execution_count": 34,
   "metadata": {},
   "outputs": [],
   "source": [
    "conn = engine.connect()"
   ]
  },
  {
   "cell_type": "code",
   "execution_count": 35,
   "metadata": {},
   "outputs": [
    {
     "name": "stdout",
     "output_type": "stream",
     "text": [
      "2019-12-04 22:55:50,069 INFO sqlalchemy.engine.base.Engine INSERT INTO fruits (nom) VALUES (?)\n",
      "2019-12-04 22:55:50,072 INFO sqlalchemy.engine.base.Engine ('banane',)\n",
      "2019-12-04 22:55:50,074 INFO sqlalchemy.engine.base.Engine COMMIT\n"
     ]
    },
    {
     "data": {
      "text/plain": [
       "<sqlalchemy.engine.result.ResultProxy at 0x7f33e36c16a0>"
      ]
     },
     "execution_count": 35,
     "metadata": {},
     "output_type": "execute_result"
    }
   ],
   "source": [
    "query = fruits_table.insert().values(nom=\"banane\")\n",
    "conn.execute(query)"
   ]
  },
  {
   "cell_type": "markdown",
   "metadata": {},
   "source": [
    "On peut aussi insérer plusieurs lignes d'un coup :"
   ]
  },
  {
   "cell_type": "code",
   "execution_count": 37,
   "metadata": {},
   "outputs": [
    {
     "name": "stdout",
     "output_type": "stream",
     "text": [
      "2019-12-04 23:02:31,208 INFO sqlalchemy.engine.base.Engine INSERT INTO fruits (nom) VALUES (?)\n",
      "2019-12-04 23:02:31,211 INFO sqlalchemy.engine.base.Engine (('pomme',), ('kiwi',), ('framboise',))\n",
      "2019-12-04 23:02:31,213 INFO sqlalchemy.engine.base.Engine COMMIT\n"
     ]
    },
    {
     "data": {
      "text/plain": [
       "<sqlalchemy.engine.result.ResultProxy at 0x7f33e36c8dd8>"
      ]
     },
     "execution_count": 37,
     "metadata": {},
     "output_type": "execute_result"
    }
   ],
   "source": [
    "query = fruits_table.insert()\n",
    "conn.execute(query, [\n",
    "    {\"nom\": \"pomme\"},\n",
    "    {\"nom\": \"kiwi\"},\n",
    "    {\"nom\": \"framboise\"},\n",
    "])"
   ]
  },
  {
   "cell_type": "markdown",
   "metadata": {},
   "source": [
    "### Faire une requête"
   ]
  },
  {
   "cell_type": "code",
   "execution_count": 40,
   "metadata": {},
   "outputs": [
    {
     "name": "stdout",
     "output_type": "stream",
     "text": [
      "2019-12-04 23:03:44,805 INFO sqlalchemy.engine.base.Engine SELECT fruits.id, fruits.nom \n",
      "FROM fruits\n",
      "2019-12-04 23:03:44,808 INFO sqlalchemy.engine.base.Engine ()\n"
     ]
    },
    {
     "data": {
      "text/plain": [
       "[(1, 'banane'),\n",
       " (2, 'pomme'),\n",
       " (3, 'kiwi'),\n",
       " (4, 'framboise'),\n",
       " (5, 'pomme'),\n",
       " (6, 'kiwi'),\n",
       " (7, 'framboise')]"
      ]
     },
     "execution_count": 40,
     "metadata": {},
     "output_type": "execute_result"
    }
   ],
   "source": [
    "from sqlalchemy import select\n",
    "\n",
    "query = select([fruits_table])\n",
    "cursor = conn.execute(query)\n",
    "cursor.fetchall()"
   ]
  },
  {
   "cell_type": "markdown",
   "metadata": {},
   "source": [
    "On peut spécifier les colonnes voulues :"
   ]
  },
  {
   "cell_type": "code",
   "execution_count": 41,
   "metadata": {},
   "outputs": [
    {
     "name": "stdout",
     "output_type": "stream",
     "text": [
      "2019-12-04 23:04:09,576 INFO sqlalchemy.engine.base.Engine SELECT fruits.nom \n",
      "FROM fruits\n",
      "2019-12-04 23:04:09,577 INFO sqlalchemy.engine.base.Engine ()\n"
     ]
    },
    {
     "data": {
      "text/plain": [
       "[('banane',),\n",
       " ('pomme',),\n",
       " ('kiwi',),\n",
       " ('framboise',),\n",
       " ('pomme',),\n",
       " ('kiwi',),\n",
       " ('framboise',)]"
      ]
     },
     "execution_count": 41,
     "metadata": {},
     "output_type": "execute_result"
    }
   ],
   "source": [
    "query = select([fruits_table.c.nom])\n",
    "cursor = conn.execute(query)\n",
    "cursor.fetchall()"
   ]
  },
  {
   "cell_type": "markdown",
   "metadata": {},
   "source": [
    "On peut ajouter une clause `WHERE` :"
   ]
  },
  {
   "cell_type": "code",
   "execution_count": 44,
   "metadata": {},
   "outputs": [
    {
     "name": "stdout",
     "output_type": "stream",
     "text": [
      "2019-12-04 23:06:01,737 INFO sqlalchemy.engine.base.Engine SELECT fruits.nom \n",
      "FROM fruits \n",
      "WHERE fruits.nom LIKE ?\n",
      "2019-12-04 23:06:01,739 INFO sqlalchemy.engine.base.Engine ('b%',)\n"
     ]
    },
    {
     "data": {
      "text/plain": [
       "[('banane',)]"
      ]
     },
     "execution_count": 44,
     "metadata": {},
     "output_type": "execute_result"
    }
   ],
   "source": [
    "query = select([fruits_table.c.nom]).where(fruits_table.c.nom.like(\"b%\"))\n",
    "cursor = conn.execute(query)\n",
    "cursor.fetchall()"
   ]
  },
  {
   "cell_type": "markdown",
   "metadata": {},
   "source": [
    "## Références\n",
    "\n",
    "- https://docs.sqlalchemy.org/en/13/core/tutorial.html"
   ]
  }
 ],
 "metadata": {
  "kernelspec": {
   "display_name": "Python 3",
   "language": "python",
   "name": "python3"
  },
  "language_info": {
   "codemirror_mode": {
    "name": "ipython",
    "version": 3
   },
   "file_extension": ".py",
   "mimetype": "text/x-python",
   "name": "python",
   "nbconvert_exporter": "python",
   "pygments_lexer": "ipython3",
   "version": "3.7.2"
  }
 },
 "nbformat": 4,
 "nbformat_minor": 2
}
