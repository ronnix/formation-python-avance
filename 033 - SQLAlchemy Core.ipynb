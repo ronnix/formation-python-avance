{
 "cells": [
  {
   "cell_type": "markdown",
   "metadata": {},
   "source": [
    "# SQLAlchemy Core"
   ]
  },
  {
   "cell_type": "code",
   "execution_count": 1,
   "metadata": {},
   "outputs": [
    {
     "name": "stdout",
     "output_type": "stream",
     "text": [
      "Requirement already up-to-date: sqlalchemy in c:\\users\\ronan amicel\\anaconda3\\lib\\site-packages (1.3.11)\n"
     ]
    }
   ],
   "source": [
    "!pip install --upgrade sqlalchemy"
   ]
  },
  {
   "cell_type": "markdown",
   "metadata": {},
   "source": [
    "## Établir une connexion"
   ]
  },
  {
   "cell_type": "code",
   "execution_count": 2,
   "metadata": {},
   "outputs": [],
   "source": [
    "from sqlalchemy import create_engine"
   ]
  },
  {
   "cell_type": "code",
   "execution_count": 3,
   "metadata": {},
   "outputs": [],
   "source": [
    "engine = create_engine(\"sqlite:///test.db\")  # la base créée plus tôt via la DB API"
   ]
  },
  {
   "cell_type": "code",
   "execution_count": 34,
   "metadata": {},
   "outputs": [],
   "source": [
    "# Pour MySQL :\n",
    "# !pip install mysqlclient\n",
    "# engine = create_engine(\"mysql+mysqldb://<username>:<password>@<host>:<port>/<dbname>\")"
   ]
  },
  {
   "cell_type": "code",
   "execution_count": 5,
   "metadata": {},
   "outputs": [],
   "source": [
    "# Pour MS SQL Server :\n",
    "# !pip install pyodbc\n",
    "# engine = create_engine(\"mssql+pyodbc://<username>:<password>@<dsnname>\")\""
   ]
  },
  {
   "cell_type": "code",
   "execution_count": 6,
   "metadata": {},
   "outputs": [
    {
     "data": {
      "text/plain": [
       "Engine(sqlite:///test.db)"
      ]
     },
     "execution_count": 6,
     "metadata": {},
     "output_type": "execute_result"
    }
   ],
   "source": [
    "engine"
   ]
  },
  {
   "cell_type": "code",
   "execution_count": 7,
   "metadata": {},
   "outputs": [
    {
     "data": {
      "text/plain": [
       "<sqlalchemy.engine.base.Connection at 0x20f49872608>"
      ]
     },
     "execution_count": 7,
     "metadata": {},
     "output_type": "execute_result"
    }
   ],
   "source": [
    "conn = engine.connect()\n",
    "conn"
   ]
  },
  {
   "cell_type": "markdown",
   "metadata": {},
   "source": [
    "## Exécuter des requêtes"
   ]
  },
  {
   "cell_type": "markdown",
   "metadata": {},
   "source": [
    "On peut utiliser cette connexion comme une connexion DB API pour faire des requêtes « en dur » :"
   ]
  },
  {
   "cell_type": "code",
   "execution_count": 8,
   "metadata": {},
   "outputs": [
    {
     "data": {
      "text/plain": [
       "[(1, 'banane'),\n",
       " (2, 'poire'),\n",
       " (3, 'framboise'),\n",
       " (4, 'banane'),\n",
       " (5, 'poire'),\n",
       " (6, 'framboise'),\n",
       " (7, 'pomme de reinette'),\n",
       " (8, \"pomme d'api\"),\n",
       " (9, 'banane'),\n",
       " (10, 'poire'),\n",
       " (11, 'framboise'),\n",
       " (12, 'pomme de reinette'),\n",
       " (13, \"pomme d'api\"),\n",
       " (14, \"pomme d'api\"),\n",
       " (15, 'ananas'),\n",
       " (16, 'clémentine'),\n",
       " (17, 'ananas'),\n",
       " (18, 'clémentine')]"
      ]
     },
     "execution_count": 8,
     "metadata": {},
     "output_type": "execute_result"
    }
   ],
   "source": [
    "cursor = conn.execute(\"SELECT * FROM fruits;\")\n",
    "cursor.fetchall()"
   ]
  },
  {
   "cell_type": "markdown",
   "metadata": {},
   "source": [
    "## Utiliser SQLAlchemy Core pour construire des requêtes\n",
    "\n",
    "**Avantage** : on exprime ses requêtes à plus haut niveau, et SQLAlchemy s'occupe de générer le code SQL en tenant compte du dialecte et des spécificités de la base de données utilisée."
   ]
  },
  {
   "cell_type": "code",
   "execution_count": 9,
   "metadata": {},
   "outputs": [],
   "source": [
    "engine = create_engine(\"sqlite:///:memory:\", echo=True)"
   ]
  },
  {
   "cell_type": "markdown",
   "metadata": {},
   "source": [
    "### Créer une table\n",
    "\n",
    "On peut déclarer la structure de notre table :"
   ]
  },
  {
   "cell_type": "code",
   "execution_count": 10,
   "metadata": {},
   "outputs": [],
   "source": [
    "from sqlalchemy import Table, Column, Integer, String, MetaData\n",
    "\n",
    "metadata = MetaData()\n",
    "\n",
    "fruits_table = Table(\n",
    "    \"fruits\",\n",
    "    metadata,\n",
    "    Column(\"id\", Integer, primary_key=True),\n",
    "    Column(\"nom\", String),\n",
    ")"
   ]
  },
  {
   "cell_type": "markdown",
   "metadata": {},
   "source": [
    "Puis on peut générer les requêtes pour créer les tables déclarées :"
   ]
  },
  {
   "cell_type": "code",
   "execution_count": 11,
   "metadata": {},
   "outputs": [
    {
     "name": "stdout",
     "output_type": "stream",
     "text": [
      "2019-12-10 10:51:17,481 INFO sqlalchemy.engine.base.Engine SELECT CAST('test plain returns' AS VARCHAR(60)) AS anon_1\n",
      "2019-12-10 10:51:17,482 INFO sqlalchemy.engine.base.Engine ()\n",
      "2019-12-10 10:51:17,483 INFO sqlalchemy.engine.base.Engine SELECT CAST('test unicode returns' AS VARCHAR(60)) AS anon_1\n",
      "2019-12-10 10:51:17,484 INFO sqlalchemy.engine.base.Engine ()\n",
      "2019-12-10 10:51:17,485 INFO sqlalchemy.engine.base.Engine PRAGMA main.table_info(\"fruits\")\n",
      "2019-12-10 10:51:17,485 INFO sqlalchemy.engine.base.Engine ()\n",
      "2019-12-10 10:51:17,486 INFO sqlalchemy.engine.base.Engine PRAGMA temp.table_info(\"fruits\")\n",
      "2019-12-10 10:51:17,486 INFO sqlalchemy.engine.base.Engine ()\n",
      "2019-12-10 10:51:17,488 INFO sqlalchemy.engine.base.Engine \n",
      "CREATE TABLE fruits (\n",
      "\tid INTEGER NOT NULL, \n",
      "\tnom VARCHAR, \n",
      "\tPRIMARY KEY (id)\n",
      ")\n",
      "\n",
      "\n",
      "2019-12-10 10:51:17,488 INFO sqlalchemy.engine.base.Engine ()\n",
      "2019-12-10 10:51:17,489 INFO sqlalchemy.engine.base.Engine COMMIT\n"
     ]
    }
   ],
   "source": [
    "metadata.create_all(engine)"
   ]
  },
  {
   "cell_type": "markdown",
   "metadata": {},
   "source": [
    "### Insérer des données\n",
    "\n",
    "On peut insérer une ligne dans la table :"
   ]
  },
  {
   "cell_type": "code",
   "execution_count": 12,
   "metadata": {},
   "outputs": [],
   "source": [
    "conn = engine.connect()"
   ]
  },
  {
   "cell_type": "code",
   "execution_count": 13,
   "metadata": {},
   "outputs": [
    {
     "name": "stdout",
     "output_type": "stream",
     "text": [
      "2019-12-10 10:51:17,501 INFO sqlalchemy.engine.base.Engine INSERT INTO fruits (nom) VALUES (?)\n",
      "2019-12-10 10:51:17,502 INFO sqlalchemy.engine.base.Engine ('banane',)\n",
      "2019-12-10 10:51:17,503 INFO sqlalchemy.engine.base.Engine COMMIT\n"
     ]
    },
    {
     "data": {
      "text/plain": [
       "<sqlalchemy.engine.result.ResultProxy at 0x20f498b83c8>"
      ]
     },
     "execution_count": 13,
     "metadata": {},
     "output_type": "execute_result"
    }
   ],
   "source": [
    "query = fruits_table.insert().values(nom=\"banane\")\n",
    "conn.execute(query)"
   ]
  },
  {
   "cell_type": "markdown",
   "metadata": {},
   "source": [
    "On peut aussi insérer plusieurs lignes d'un coup :"
   ]
  },
  {
   "cell_type": "code",
   "execution_count": 14,
   "metadata": {},
   "outputs": [
    {
     "name": "stdout",
     "output_type": "stream",
     "text": [
      "2019-12-10 10:51:17,510 INFO sqlalchemy.engine.base.Engine INSERT INTO fruits (nom) VALUES (?)\n",
      "2019-12-10 10:51:17,510 INFO sqlalchemy.engine.base.Engine (('pomme',), ('kiwi',), ('framboise',))\n",
      "2019-12-10 10:51:17,511 INFO sqlalchemy.engine.base.Engine COMMIT\n"
     ]
    },
    {
     "data": {
      "text/plain": [
       "<sqlalchemy.engine.result.ResultProxy at 0x20f498b8948>"
      ]
     },
     "execution_count": 14,
     "metadata": {},
     "output_type": "execute_result"
    }
   ],
   "source": [
    "fruit1 = {\"nom\": \"pomme\"}\n",
    "query = fruits_table.insert()\n",
    "conn.execute(query, [\n",
    "    fruit1,\n",
    "    {\"nom\": \"kiwi\"},\n",
    "    {\"nom\": \"framboise\"},\n",
    "])"
   ]
  },
  {
   "cell_type": "markdown",
   "metadata": {},
   "source": [
    "### Faire une requête"
   ]
  },
  {
   "cell_type": "code",
   "execution_count": 15,
   "metadata": {},
   "outputs": [
    {
     "name": "stdout",
     "output_type": "stream",
     "text": [
      "2019-12-10 10:51:17,519 INFO sqlalchemy.engine.base.Engine SELECT fruits.id, fruits.nom \n",
      "FROM fruits\n",
      "2019-12-10 10:51:17,520 INFO sqlalchemy.engine.base.Engine ()\n"
     ]
    },
    {
     "data": {
      "text/plain": [
       "[(1, 'banane'), (2, 'pomme'), (3, 'kiwi'), (4, 'framboise')]"
      ]
     },
     "execution_count": 15,
     "metadata": {},
     "output_type": "execute_result"
    }
   ],
   "source": [
    "from sqlalchemy import select\n",
    "\n",
    "query = select([fruits_table])\n",
    "cursor = conn.execute(query)\n",
    "cursor.fetchall()"
   ]
  },
  {
   "cell_type": "markdown",
   "metadata": {},
   "source": [
    "On peut spécifier les colonnes voulues :"
   ]
  },
  {
   "cell_type": "code",
   "execution_count": 16,
   "metadata": {},
   "outputs": [
    {
     "name": "stdout",
     "output_type": "stream",
     "text": [
      "2019-12-10 10:51:17,530 INFO sqlalchemy.engine.base.Engine SELECT fruits.nom \n",
      "FROM fruits\n",
      "2019-12-10 10:51:17,531 INFO sqlalchemy.engine.base.Engine ()\n"
     ]
    },
    {
     "data": {
      "text/plain": [
       "[('banane',), ('pomme',), ('kiwi',), ('framboise',)]"
      ]
     },
     "execution_count": 16,
     "metadata": {},
     "output_type": "execute_result"
    }
   ],
   "source": [
    "query = select([fruits_table.c.nom])\n",
    "cursor = conn.execute(query)\n",
    "cursor.fetchall()"
   ]
  },
  {
   "cell_type": "markdown",
   "metadata": {},
   "source": [
    "On peut ajouter une clause `WHERE` :"
   ]
  },
  {
   "cell_type": "code",
   "execution_count": 17,
   "metadata": {},
   "outputs": [
    {
     "name": "stdout",
     "output_type": "stream",
     "text": [
      "2019-12-10 10:51:17,541 INFO sqlalchemy.engine.base.Engine SELECT fruits.nom \n",
      "FROM fruits \n",
      "WHERE fruits.nom LIKE ?\n",
      "2019-12-10 10:51:17,542 INFO sqlalchemy.engine.base.Engine ('b%',)\n"
     ]
    },
    {
     "data": {
      "text/plain": [
       "[('banane',)]"
      ]
     },
     "execution_count": 17,
     "metadata": {},
     "output_type": "execute_result"
    }
   ],
   "source": [
    "query = select([fruits_table.c.nom]).where(fruits_table.c.nom.like(\"b%\"))\n",
    "cursor = conn.execute(query)\n",
    "cursor.fetchall()"
   ]
  },
  {
   "cell_type": "code",
   "execution_count": 18,
   "metadata": {},
   "outputs": [
    {
     "name": "stdout",
     "output_type": "stream",
     "text": [
      "2019-12-10 10:51:17,553 INFO sqlalchemy.engine.base.Engine SELECT fruits.nom \n",
      "FROM fruits \n",
      "WHERE fruits.nom >= ?\n",
      "2019-12-10 10:51:17,554 INFO sqlalchemy.engine.base.Engine ('pomme',)\n"
     ]
    },
    {
     "data": {
      "text/plain": [
       "[('pomme',)]"
      ]
     },
     "execution_count": 18,
     "metadata": {},
     "output_type": "execute_result"
    }
   ],
   "source": [
    "query = select([fruits_table.c.nom]).where(fruits_table.c.nom >= \"pomme\")\n",
    "cursor = conn.execute(query)\n",
    "cursor.fetchall()"
   ]
  },
  {
   "cell_type": "code",
   "execution_count": 19,
   "metadata": {},
   "outputs": [
    {
     "name": "stdout",
     "output_type": "stream",
     "text": [
      "2019-12-10 10:51:17,564 INFO sqlalchemy.engine.base.Engine PRAGMA main.table_info(\"fruits\")\n",
      "2019-12-10 10:51:17,564 INFO sqlalchemy.engine.base.Engine ()\n",
      "2019-12-10 10:51:17,566 INFO sqlalchemy.engine.base.Engine PRAGMA main.table_info(\"barquettes\")\n",
      "2019-12-10 10:51:17,566 INFO sqlalchemy.engine.base.Engine ()\n",
      "2019-12-10 10:51:17,567 INFO sqlalchemy.engine.base.Engine PRAGMA temp.table_info(\"barquettes\")\n",
      "2019-12-10 10:51:17,568 INFO sqlalchemy.engine.base.Engine ()\n",
      "2019-12-10 10:51:17,570 INFO sqlalchemy.engine.base.Engine \n",
      "CREATE TABLE barquettes (\n",
      "\tid INTEGER NOT NULL, \n",
      "\tfruit_id INTEGER, \n",
      "\tpoids INTEGER, \n",
      "\tPRIMARY KEY (id), \n",
      "\tFOREIGN KEY(fruit_id) REFERENCES fruits (id)\n",
      ")\n",
      "\n",
      "\n",
      "2019-12-10 10:51:17,570 INFO sqlalchemy.engine.base.Engine ()\n",
      "2019-12-10 10:51:17,571 INFO sqlalchemy.engine.base.Engine COMMIT\n"
     ]
    }
   ],
   "source": [
    "from sqlalchemy import ForeignKey\n",
    "b\n",
    "barquette_table = Table(\n",
    "    \"barquettes\",\n",
    "    metadata,\n",
    "    Column(\"id\", Integer, primary_key=True),\n",
    "    Column(\"fruit_id\", Integer, ForeignKey(\"fruits.id\")),\n",
    "    Column(\"poids\", Integer),\n",
    ")\n",
    "\n",
    "metadata.create_all(engine)"
   ]
  },
  {
   "cell_type": "code",
   "execution_count": 23,
   "metadata": {},
   "outputs": [
    {
     "name": "stdout",
     "output_type": "stream",
     "text": [
      "2019-12-10 11:07:06,680 INFO sqlalchemy.engine.base.Engine SELECT fruits.id \n",
      "FROM fruits \n",
      "WHERE fruits.nom = ?\n",
      "2019-12-10 11:07:06,681 INFO sqlalchemy.engine.base.Engine ('framboise',)\n"
     ]
    }
   ],
   "source": [
    "framboise_id = conn.execute(select([fruits_table.c.id]).where(fruits_table.c.nom == \"framboise\")).fetchone()\n",
    "framboise_id = framboise_id[0]"
   ]
  },
  {
   "cell_type": "code",
   "execution_count": 24,
   "metadata": {},
   "outputs": [
    {
     "name": "stdout",
     "output_type": "stream",
     "text": [
      "2019-12-10 11:07:29,064 INFO sqlalchemy.engine.base.Engine INSERT INTO barquettes (fruit_id, poids) VALUES (?, ?)\n",
      "2019-12-10 11:07:29,065 INFO sqlalchemy.engine.base.Engine (4, 500)\n",
      "2019-12-10 11:07:29,066 INFO sqlalchemy.engine.base.Engine COMMIT\n"
     ]
    },
    {
     "data": {
      "text/plain": [
       "<sqlalchemy.engine.result.ResultProxy at 0x20f4c577a88>"
      ]
     },
     "execution_count": 24,
     "metadata": {},
     "output_type": "execute_result"
    }
   ],
   "source": [
    "query = barquette_table.insert().values(fruit_id=framboise_id, poids=500)\n",
    "conn.execute(query)"
   ]
  },
  {
   "cell_type": "code",
   "execution_count": 29,
   "metadata": {},
   "outputs": [
    {
     "name": "stdout",
     "output_type": "stream",
     "text": [
      "2019-12-10 11:11:59,041 INFO sqlalchemy.engine.base.Engine SELECT barquettes.poids, fruits.nom \n",
      "FROM fruits JOIN barquettes ON barquettes.fruit_id = fruits.id\n",
      "2019-12-10 11:11:59,042 INFO sqlalchemy.engine.base.Engine ()\n"
     ]
    },
    {
     "data": {
      "text/plain": [
       "[(500, 'framboise')]"
      ]
     },
     "execution_count": 29,
     "metadata": {},
     "output_type": "execute_result"
    }
   ],
   "source": [
    "query = select([barquette_table.c.poids, fruits_table.c.nom]).select_from(\n",
    "    fruits_table.join(\n",
    "        barquette_table,\n",
    "        barquette_table.c.fruit_id == fruits_table.c.id,\n",
    "    )\n",
    ")\n",
    "cursor = conn.execute(query)\n",
    "cursor.fetchall()"
   ]
  },
  {
   "cell_type": "code",
   "execution_count": 33,
   "metadata": {},
   "outputs": [
    {
     "name": "stdout",
     "output_type": "stream",
     "text": [
      "2019-12-10 11:15:18,408 INFO sqlalchemy.engine.base.Engine SELECT barquettes.poids, fruits.nom \n",
      "FROM fruits LEFT OUTER JOIN barquettes ON barquettes.fruit_id = fruits.id\n",
      "2019-12-10 11:15:18,409 INFO sqlalchemy.engine.base.Engine ()\n"
     ]
    },
    {
     "data": {
      "text/plain": [
       "[(None, 'banane'), (None, 'pomme'), (None, 'kiwi'), (500, 'framboise')]"
      ]
     },
     "execution_count": 33,
     "metadata": {},
     "output_type": "execute_result"
    }
   ],
   "source": [
    "joined_tables = fruits_table.outerjoin(\n",
    "    barquette_table,\n",
    "    barquette_table.c.fruit_id == fruits_table.c.id,\n",
    ")\n",
    "query = select([barquette_table.c.poids, fruits_table.c.nom]).select_from(joined_tables)\n",
    "cursor = conn.execute(query)\n",
    "cursor.fetchall()"
   ]
  },
  {
   "cell_type": "markdown",
   "metadata": {},
   "source": [
    "## Références\n",
    "\n",
    "- https://docs.sqlalchemy.org/en/13/core/tutorial.html"
   ]
  }
 ],
 "metadata": {
  "kernelspec": {
   "display_name": "Python 3",
   "language": "python",
   "name": "python3"
  },
  "language_info": {
   "codemirror_mode": {
    "name": "ipython",
    "version": 3
   },
   "file_extension": ".py",
   "mimetype": "text/x-python",
   "name": "python",
   "nbconvert_exporter": "python",
   "pygments_lexer": "ipython3",
   "version": "3.7.4"
  }
 },
 "nbformat": 4,
 "nbformat_minor": 4
}
