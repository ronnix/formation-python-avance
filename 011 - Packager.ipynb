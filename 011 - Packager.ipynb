{
 "cells": [
  {
   "cell_type": "markdown",
   "metadata": {},
   "source": [
    "# Packager son projet"
   ]
  },
  {
   "cell_type": "markdown",
   "metadata": {},
   "source": [
    "## Application vs bibliothèque\n",
    "\n",
    "- bibliothèque : contraintes sur les dépendances directes\n",
    "- application : installation reproductible d'un ensemble de versions bien spécifique (dépendances directes et indirectes)"
   ]
  },
  {
   "cell_type": "markdown",
   "metadata": {},
   "source": [
    "## Les fichiers `setup.py`, `setup.cfg` et `pyproject.toml`\n",
    "\n",
    "Situation confuse !\n",
    "\n",
    "- `setup.py` et `setup.cfg` : setuptools\n",
    "- `pyproject.toml` : [PEP518](https://www.python.org/dev/peps/pep-0518/) → le futur ?"
   ]
  },
  {
   "cell_type": "markdown",
   "metadata": {},
   "source": [
    "## Outils de scaffolding"
   ]
  },
  {
   "cell_type": "markdown",
   "metadata": {},
   "source": [
    "### flit\n",
    "\n",
    "https://flit.readthedocs.io/"
   ]
  },
  {
   "cell_type": "markdown",
   "metadata": {},
   "source": [
    "### Cookiecutter\n",
    "\n",
    "https://pypi.org/project/cookiecutter/"
   ]
  },
  {
   "cell_type": "markdown",
   "metadata": {},
   "source": [
    "## Références\n",
    "\n",
    "- https://packaging.python.org/tutorials/packaging-projects/\n",
    "- https://docs.python-guide.org/writing/structure/"
   ]
  }
 ],
 "metadata": {
  "kernelspec": {
   "display_name": "Python 3",
   "language": "python",
   "name": "python3"
  },
  "language_info": {
   "codemirror_mode": {
    "name": "ipython",
    "version": 3
   },
   "file_extension": ".py",
   "mimetype": "text/x-python",
   "name": "python",
   "nbconvert_exporter": "python",
   "pygments_lexer": "ipython3",
   "version": "3.7.4"
  }
 },
 "nbformat": 4,
 "nbformat_minor": 4
}
