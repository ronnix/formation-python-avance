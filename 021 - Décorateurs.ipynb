{
 "cells": [
  {
   "cell_type": "markdown",
   "metadata": {},
   "source": [
    "# Décorateurs"
   ]
  },
  {
   "cell_type": "markdown",
   "metadata": {},
   "source": [
    "## Motivations\n",
    "\n",
    "Un décorateur permet de modifier le comportement d'une fonction, sans devoir changer le code de la fonction.\n",
    "\n",
    "On peut appliquer un même décorateur à plusieurs fonctions différentes.\n",
    "\n",
    "Avantages :\n",
    "- éviter de la duplication\n",
    "- séparer les préoccupations\n",
    "- brique réutilisable"
   ]
  },
  {
   "cell_type": "markdown",
   "metadata": {},
   "source": [
    "## Un décorateur très minimal"
   ]
  },
  {
   "cell_type": "markdown",
   "metadata": {},
   "source": [
    "Un décorateur est une fonction qui renvoie une fonction."
   ]
  },
  {
   "cell_type": "code",
   "execution_count": 38,
   "metadata": {},
   "outputs": [
    {
     "name": "stdout",
     "output_type": "stream",
     "text": [
      "bonjour\n"
     ]
    }
   ],
   "source": [
    "def nop(func):\n",
    "    return func\n",
    "\n",
    "@nop\n",
    "def fonction():\n",
    "    print(\"bonjour\")\n",
    "    \n",
    "fonction()"
   ]
  },
  {
   "cell_type": "markdown",
   "metadata": {},
   "source": [
    "La syntaxe `@` est juste une commodité :"
   ]
  },
  {
   "cell_type": "code",
   "execution_count": 39,
   "metadata": {},
   "outputs": [
    {
     "name": "stdout",
     "output_type": "stream",
     "text": [
      "bonjour\n"
     ]
    }
   ],
   "source": [
    "def fonction():\n",
    "    print(\"bonjour\")\n",
    "\n",
    "fonction = nop(fonction)  # équivalent\n",
    "\n",
    "fonction()"
   ]
  },
  {
   "cell_type": "markdown",
   "metadata": {},
   "source": [
    "## Un décorateur qui fait quelque chose"
   ]
  },
  {
   "cell_type": "markdown",
   "metadata": {},
   "source": [
    "La plupart du temps, un décorateur va suivre ce modèle, qui consiste à « emballer » l'appel à la fonction décorée :"
   ]
  },
  {
   "cell_type": "code",
   "execution_count": null,
   "metadata": {},
   "outputs": [],
   "source": [
    "def decorateur_type(func):\n",
    "    def wrapper(*args, **kwargs):\n",
    "        # ici on peut insérer des choses à faire avant l'appel\n",
    "        res = func(*args, **kwargs)\n",
    "        # ici on peut insérer des choses à faire après l'appel\n",
    "        return res\n",
    "    return wrapper"
   ]
  },
  {
   "cell_type": "markdown",
   "metadata": {},
   "source": [
    "Par exemple, on peut écrire ainsi un décorateur qui va mesurer le temps d'exécution de la fonction à chaque appel :"
   ]
  },
  {
   "cell_type": "code",
   "execution_count": 1,
   "metadata": {},
   "outputs": [],
   "source": [
    "from time import monotonic\n",
    "\n",
    "def chrono(func):\n",
    "    def wrapper(*args, **kwargs):\n",
    "        départ = monotonic()  # avant\n",
    "        res = func(*args, **kwargs)\n",
    "        print(\"Durée : {:.1f}ms\".format((monotonic() - départ) * 1000))  # après\n",
    "        return res\n",
    "    return wrapper"
   ]
  },
  {
   "cell_type": "code",
   "execution_count": 2,
   "metadata": {},
   "outputs": [
    {
     "name": "stdout",
     "output_type": "stream",
     "text": [
      "bonjour\n",
      "Durée : 0.0ms\n"
     ]
    }
   ],
   "source": [
    "@chrono\n",
    "def fonction_courte():\n",
    "    print(\"bonjour\")\n",
    "\n",
    "fonction_courte()"
   ]
  },
  {
   "cell_type": "code",
   "execution_count": 3,
   "metadata": {},
   "outputs": [
    {
     "name": "stdout",
     "output_type": "stream",
     "text": [
      "bonjour\n",
      "Durée : 93.0ms\n"
     ]
    }
   ],
   "source": [
    "from time import sleep\n",
    "\n",
    "@chrono\n",
    "def fonction_longue():\n",
    "    sleep(0.1)\n",
    "    print(\"bonjour\")\n",
    "\n",
    "fonction_longue()"
   ]
  },
  {
   "cell_type": "markdown",
   "metadata": {},
   "source": [
    "## Décorateur paramétré\n",
    "\n",
    "Ça se complique un peu : on écrit une fonction qui va renvoyer un décorateur..."
   ]
  },
  {
   "cell_type": "code",
   "execution_count": 6,
   "metadata": {},
   "outputs": [
    {
     "name": "stdout",
     "output_type": "stream",
     "text": [
      "bonjour\n",
      "bonjour\n",
      "bonjour\n"
     ]
    },
    {
     "ename": "ZeroDivisionError",
     "evalue": "division by zero",
     "output_type": "error",
     "traceback": [
      "\u001b[1;31m---------------------------------------------------------------------------\u001b[0m",
      "\u001b[1;31mZeroDivisionError\u001b[0m                         Traceback (most recent call last)",
      "\u001b[1;32m<ipython-input-6-56a2cabd69cc>\u001b[0m in \u001b[0;36m<module>\u001b[1;34m\u001b[0m\n\u001b[0;32m     18\u001b[0m     \u001b[1;36m1\u001b[0m \u001b[1;33m/\u001b[0m \u001b[1;36m0\u001b[0m\u001b[1;33m\u001b[0m\u001b[1;33m\u001b[0m\u001b[0m\n\u001b[0;32m     19\u001b[0m \u001b[1;33m\u001b[0m\u001b[0m\n\u001b[1;32m---> 20\u001b[1;33m \u001b[0mfonction\u001b[0m\u001b[1;33m(\u001b[0m\u001b[1;33m)\u001b[0m\u001b[1;33m\u001b[0m\u001b[1;33m\u001b[0m\u001b[0m\n\u001b[0m",
      "\u001b[1;32m<ipython-input-6-56a2cabd69cc>\u001b[0m in \u001b[0;36mwrapper\u001b[1;34m(*args, **kwargs)\u001b[0m\n\u001b[0;32m      5\u001b[0m             \u001b[1;32mwhile\u001b[0m \u001b[1;32mTrue\u001b[0m\u001b[1;33m:\u001b[0m\u001b[1;33m\u001b[0m\u001b[1;33m\u001b[0m\u001b[0m\n\u001b[0;32m      6\u001b[0m                 \u001b[1;32mtry\u001b[0m\u001b[1;33m:\u001b[0m\u001b[1;33m\u001b[0m\u001b[1;33m\u001b[0m\u001b[0m\n\u001b[1;32m----> 7\u001b[1;33m                     \u001b[1;32mreturn\u001b[0m \u001b[0mfunc\u001b[0m\u001b[1;33m(\u001b[0m\u001b[1;33m*\u001b[0m\u001b[0margs\u001b[0m\u001b[1;33m,\u001b[0m \u001b[1;33m**\u001b[0m\u001b[0mkwargs\u001b[0m\u001b[1;33m)\u001b[0m\u001b[1;33m\u001b[0m\u001b[1;33m\u001b[0m\u001b[0m\n\u001b[0m\u001b[0;32m      8\u001b[0m                 \u001b[1;32mexcept\u001b[0m \u001b[0mException\u001b[0m\u001b[1;33m:\u001b[0m\u001b[1;33m\u001b[0m\u001b[1;33m\u001b[0m\u001b[0m\n\u001b[0;32m      9\u001b[0m                     \u001b[1;32mif\u001b[0m \u001b[0mtries\u001b[0m \u001b[1;33m>=\u001b[0m \u001b[0mmax_tries\u001b[0m\u001b[1;33m:\u001b[0m\u001b[1;33m\u001b[0m\u001b[1;33m\u001b[0m\u001b[0m\n",
      "\u001b[1;32m<ipython-input-6-56a2cabd69cc>\u001b[0m in \u001b[0;36mfonction\u001b[1;34m()\u001b[0m\n\u001b[0;32m     16\u001b[0m \u001b[1;32mdef\u001b[0m \u001b[0mfonction\u001b[0m\u001b[1;33m(\u001b[0m\u001b[1;33m)\u001b[0m\u001b[1;33m:\u001b[0m\u001b[1;33m\u001b[0m\u001b[1;33m\u001b[0m\u001b[0m\n\u001b[0;32m     17\u001b[0m     \u001b[0mprint\u001b[0m\u001b[1;33m(\u001b[0m\u001b[1;34m\"bonjour\"\u001b[0m\u001b[1;33m)\u001b[0m\u001b[1;33m\u001b[0m\u001b[1;33m\u001b[0m\u001b[0m\n\u001b[1;32m---> 18\u001b[1;33m     \u001b[1;36m1\u001b[0m \u001b[1;33m/\u001b[0m \u001b[1;36m0\u001b[0m\u001b[1;33m\u001b[0m\u001b[1;33m\u001b[0m\u001b[0m\n\u001b[0m\u001b[0;32m     19\u001b[0m \u001b[1;33m\u001b[0m\u001b[0m\n\u001b[0;32m     20\u001b[0m \u001b[0mfonction\u001b[0m\u001b[1;33m(\u001b[0m\u001b[1;33m)\u001b[0m\u001b[1;33m\u001b[0m\u001b[1;33m\u001b[0m\u001b[0m\n",
      "\u001b[1;31mZeroDivisionError\u001b[0m: division by zero"
     ]
    }
   ],
   "source": [
    "def retry(max_tries):\n",
    "    def decorator(func):\n",
    "        def wrapper(*args, **kwargs):\n",
    "            tries = 1\n",
    "            while True:\n",
    "                try:\n",
    "                    return func(*args, **kwargs)\n",
    "                except Exception:\n",
    "                    if tries >= max_tries:\n",
    "                        raise\n",
    "                tries += 1\n",
    "        return wrapper\n",
    "    return decorator\n",
    "\n",
    "@retry(3)\n",
    "def fonction():\n",
    "    print(\"bonjour\")\n",
    "    1 / 0\n",
    "\n",
    "fonction()"
   ]
  },
  {
   "cell_type": "markdown",
   "metadata": {},
   "source": [
    "## Décorer son décorateur : @wraps"
   ]
  },
  {
   "cell_type": "code",
   "execution_count": 7,
   "metadata": {},
   "outputs": [],
   "source": [
    "def decorateur(func):\n",
    "    def wrapper(*args, **kwargs):\n",
    "        return func(*args, **kwargs)\n",
    "    return wrapper\n",
    "\n",
    "@decorateur\n",
    "def fonction():\n",
    "    \"\"\"Ma fonction\"\"\"\n",
    "    print(\"bonjour\")"
   ]
  },
  {
   "cell_type": "code",
   "execution_count": 8,
   "metadata": {},
   "outputs": [
    {
     "name": "stdout",
     "output_type": "stream",
     "text": [
      "wrapper\n"
     ]
    }
   ],
   "source": [
    "print(fonction.__name__)"
   ]
  },
  {
   "cell_type": "code",
   "execution_count": 19,
   "metadata": {},
   "outputs": [
    {
     "name": "stdout",
     "output_type": "stream",
     "text": [
      "None\n"
     ]
    }
   ],
   "source": [
    "print(fonction.__doc__)"
   ]
  },
  {
   "cell_type": "code",
   "execution_count": 9,
   "metadata": {},
   "outputs": [],
   "source": [
    "from functools import wraps\n",
    "\n",
    "def decorateur(func):\n",
    "    @wraps(func)\n",
    "    def wrapper(*args, **kwargs):\n",
    "        return func(*args, **kwargs)\n",
    "    return wrapper\n",
    "\n",
    "@decorateur\n",
    "def fonction():\n",
    "    \"\"\"Ma fonction\"\"\"\n",
    "    print(\"bonjour\")"
   ]
  },
  {
   "cell_type": "code",
   "execution_count": 10,
   "metadata": {},
   "outputs": [
    {
     "name": "stdout",
     "output_type": "stream",
     "text": [
      "fonction\n"
     ]
    }
   ],
   "source": [
    "print(fonction.__name__)"
   ]
  },
  {
   "cell_type": "code",
   "execution_count": 22,
   "metadata": {},
   "outputs": [
    {
     "name": "stdout",
     "output_type": "stream",
     "text": [
      "Ma fonction\n"
     ]
    }
   ],
   "source": [
    "print(fonction.__doc__)"
   ]
  },
  {
   "cell_type": "markdown",
   "metadata": {},
   "source": [
    "## Décorateurs multiples\n",
    "\n",
    "Lorsqu'il y a plusieurs décorateurs, ils sont appliqués de bas en haut :"
   ]
  },
  {
   "cell_type": "code",
   "execution_count": 13,
   "metadata": {},
   "outputs": [],
   "source": [
    "def decorateur1(func):\n",
    "    def wrapper(*args, **kwargs):\n",
    "        print(\" avant 1\")\n",
    "        res = func(*args, **kwargs)\n",
    "        print(\" après 1\")\n",
    "        return res\n",
    "    return wrapper\n",
    "\n",
    "def decorateur2(func):\n",
    "    def wrapper(*args, **kwargs):\n",
    "        print(\"avant 2\")\n",
    "        res = func(*args, **kwargs)\n",
    "        print(\"après 2\")\n",
    "        return res\n",
    "    return wrapper\n",
    "\n",
    "@decorateur2\n",
    "@decorateur1\n",
    "def fonction():\n",
    "    print(\"  bonjour\")\n",
    "\n",
    "# équivalent à `fonction = decorateur2(decorateur1(fonction))`"
   ]
  },
  {
   "cell_type": "markdown",
   "metadata": {},
   "source": [
    "Cela veut dire qu'à l'exécution on commencera par le plus extérieur, donc de haut en bas :"
   ]
  },
  {
   "cell_type": "code",
   "execution_count": 12,
   "metadata": {},
   "outputs": [
    {
     "name": "stdout",
     "output_type": "stream",
     "text": [
      "avant 2\n",
      " avant 1\n",
      "  bonjour\n",
      " après 1\n",
      "après 2\n"
     ]
    }
   ],
   "source": [
    "fonction()"
   ]
  },
  {
   "cell_type": "markdown",
   "metadata": {},
   "source": [
    "## Alternative : écrire un décorateur avec une classe"
   ]
  },
  {
   "cell_type": "code",
   "execution_count": 14,
   "metadata": {},
   "outputs": [],
   "source": [
    "from functools import update_wrapper\n",
    "\n",
    "class compteur:\n",
    "    def __init__(self, func):\n",
    "        self.func = func\n",
    "        update_wrapper(self, func)  # équivalent au @wraps dans le cas d'une fonction\n",
    "        self.appels = 0\n",
    "\n",
    "    def __call__(self, *args, **kwargs):\n",
    "        self.appels += 1\n",
    "        res = self.func(*args, **kwargs)\n",
    "        print(self.appels, \"appel(s)\")\n",
    "        return res\n",
    "\n",
    "@compteur\n",
    "def fonction():\n",
    "    print(\"bonjour\")"
   ]
  },
  {
   "cell_type": "code",
   "execution_count": 15,
   "metadata": {},
   "outputs": [
    {
     "name": "stdout",
     "output_type": "stream",
     "text": [
      "fonction\n"
     ]
    }
   ],
   "source": [
    "print(fonction.__name__)"
   ]
  },
  {
   "cell_type": "code",
   "execution_count": 20,
   "metadata": {},
   "outputs": [
    {
     "name": "stdout",
     "output_type": "stream",
     "text": [
      "bonjour\n",
      "5 appel(s)\n"
     ]
    }
   ],
   "source": [
    "fonction()"
   ]
  },
  {
   "cell_type": "code",
   "execution_count": 45,
   "metadata": {},
   "outputs": [
    {
     "name": "stdout",
     "output_type": "stream",
     "text": [
      "bonjour\n",
      "2 appel(s)\n"
     ]
    }
   ],
   "source": [
    "fonction()"
   ]
  },
  {
   "cell_type": "markdown",
   "metadata": {},
   "source": [
    "## Context managers"
   ]
  },
  {
   "cell_type": "code",
   "execution_count": null,
   "metadata": {},
   "outputs": [],
   "source": [
    "f = open(\"custom.css\")\n",
    "try:\n",
    "    f.read()\n",
    "finally:\n",
    "    f.close()"
   ]
  },
  {
   "cell_type": "code",
   "execution_count": 21,
   "metadata": {},
   "outputs": [],
   "source": [
    "with open(\"custom.css\") as f:\n",
    "    f.read()"
   ]
  },
  {
   "cell_type": "markdown",
   "metadata": {},
   "source": [
    "## Décorateur et *context manager* à la fois\n",
    "\n",
    "Il est possible de créer une classe qui fonctionne à la fois comme décorateur et comme *context manager*."
   ]
  },
  {
   "cell_type": "code",
   "execution_count": 22,
   "metadata": {},
   "outputs": [],
   "source": [
    "from contextlib import ContextDecorator\n",
    "\n",
    "class contexte(ContextDecorator):\n",
    "    def __enter__(self):\n",
    "        print(\"Avant\")\n",
    "        return self\n",
    "\n",
    "    def __exit__(self, *exc):\n",
    "        print(\"Après\")\n",
    "        return False"
   ]
  },
  {
   "cell_type": "markdown",
   "metadata": {},
   "source": [
    "Usage comme décorateur :"
   ]
  },
  {
   "cell_type": "code",
   "execution_count": 23,
   "metadata": {},
   "outputs": [
    {
     "name": "stdout",
     "output_type": "stream",
     "text": [
      "Avant\n",
      "Ma fonction\n",
      "Après\n"
     ]
    }
   ],
   "source": [
    "@contexte()\n",
    "def fonction():\n",
    "    print(\"Ma fonction\")\n",
    "\n",
    "fonction()"
   ]
  },
  {
   "cell_type": "markdown",
   "metadata": {},
   "source": [
    "Usage comme *context manager* :"
   ]
  },
  {
   "cell_type": "code",
   "execution_count": 24,
   "metadata": {},
   "outputs": [
    {
     "name": "stdout",
     "output_type": "stream",
     "text": [
      "Avant\n",
      "Mon bloc\n",
      "Après\n"
     ]
    }
   ],
   "source": [
    "with contexte():\n",
    "    print(\"Mon bloc\")"
   ]
  },
  {
   "cell_type": "code",
   "execution_count": 25,
   "metadata": {},
   "outputs": [
    {
     "name": "stdout",
     "output_type": "stream",
     "text": [
      "Avant\n",
      "Après\n"
     ]
    },
    {
     "ename": "ZeroDivisionError",
     "evalue": "division by zero",
     "output_type": "error",
     "traceback": [
      "\u001b[1;31m---------------------------------------------------------------------------\u001b[0m",
      "\u001b[1;31mZeroDivisionError\u001b[0m                         Traceback (most recent call last)",
      "\u001b[1;32m<ipython-input-25-83373b27d3b3>\u001b[0m in \u001b[0;36m<module>\u001b[1;34m\u001b[0m\n\u001b[0;32m      1\u001b[0m \u001b[1;32mwith\u001b[0m \u001b[0mcontexte\u001b[0m\u001b[1;33m(\u001b[0m\u001b[1;33m)\u001b[0m\u001b[1;33m:\u001b[0m\u001b[1;33m\u001b[0m\u001b[1;33m\u001b[0m\u001b[0m\n\u001b[1;32m----> 2\u001b[1;33m     \u001b[1;36m1\u001b[0m \u001b[1;33m/\u001b[0m \u001b[1;36m0\u001b[0m\u001b[1;33m\u001b[0m\u001b[1;33m\u001b[0m\u001b[0m\n\u001b[0m",
      "\u001b[1;31mZeroDivisionError\u001b[0m: division by zero"
     ]
    }
   ],
   "source": [
    "with contexte():\n",
    "    1 / 0"
   ]
  },
  {
   "cell_type": "markdown",
   "metadata": {},
   "source": [
    "## Références\n",
    "\n",
    "- https://www.python.org/dev/peps/pep-0318/\n",
    "- [Practical decorators (PyCon 2019)](https://speakerdeck.com/pycon2019/reuven-m-lerner-practical-decorators)\n",
    "- [Decorators unwrapped (PyCon 2017)](https://speakerdeck.com/pycon2017/katie-silverio-decorators-unwrapped-how-do-they-work)\n",
    "- https://wrapt.readthedocs.io/\n",
    "- https://docs.python.org/3.8/library/contextlib.html#contextlib.ContextDecorator"
   ]
  }
 ],
 "metadata": {
  "kernelspec": {
   "display_name": "Python 3",
   "language": "python",
   "name": "python3"
  },
  "language_info": {
   "codemirror_mode": {
    "name": "ipython",
    "version": 3
   },
   "file_extension": ".py",
   "mimetype": "text/x-python",
   "name": "python",
   "nbconvert_exporter": "python",
   "pygments_lexer": "ipython3",
   "version": "3.7.4"
  }
 },
 "nbformat": 4,
 "nbformat_minor": 4
}
