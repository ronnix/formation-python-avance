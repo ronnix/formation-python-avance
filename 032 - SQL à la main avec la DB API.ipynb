{
 "cells": [
  {
   "cell_type": "markdown",
   "metadata": {},
   "source": [
    "# SQL à la main avec la DB API"
   ]
  },
  {
   "cell_type": "markdown",
   "metadata": {},
   "source": [
    "On va utiliser ici SQLite car :\n",
    "- le support de SQLite est inclus en standard dans Python : pas de driver à installer\n",
    "- c'est une base de données « embarquée » : pas de serveur de bases de données à lancer\n"
   ]
  },
  {
   "cell_type": "code",
   "execution_count": 27,
   "metadata": {},
   "outputs": [],
   "source": [
    "import sqlite3"
   ]
  },
  {
   "cell_type": "markdown",
   "metadata": {},
   "source": [
    "## Établir une connexion"
   ]
  },
  {
   "cell_type": "code",
   "execution_count": 28,
   "metadata": {},
   "outputs": [],
   "source": [
    "#!del test.db"
   ]
  },
  {
   "cell_type": "code",
   "execution_count": 29,
   "metadata": {},
   "outputs": [],
   "source": [
    "connection = sqlite3.connect(\"test.db\")"
   ]
  },
  {
   "cell_type": "code",
   "execution_count": 30,
   "metadata": {},
   "outputs": [
    {
     "name": "stdout",
     "output_type": "stream",
     "text": [
      "<sqlite3.Connection object at 0x00000204CCCDB650>\n"
     ]
    }
   ],
   "source": [
    "print(connection)"
   ]
  },
  {
   "cell_type": "code",
   "execution_count": 31,
   "metadata": {},
   "outputs": [],
   "source": [
    "import os\n",
    "assert os.path.exists(\"test.db\")"
   ]
  },
  {
   "cell_type": "markdown",
   "metadata": {},
   "source": [
    "## Exécuter des commandes"
   ]
  },
  {
   "cell_type": "code",
   "execution_count": 32,
   "metadata": {},
   "outputs": [
    {
     "data": {
      "text/plain": [
       "<sqlite3.Cursor at 0x204ccd75c00>"
      ]
     },
     "execution_count": 32,
     "metadata": {},
     "output_type": "execute_result"
    }
   ],
   "source": [
    "connection.execute(\n",
    "    \"\"\"\n",
    "    CREATE TABLE IF NOT EXISTS fruits (\n",
    "        id integer PRIMARY KEY,\n",
    "        nom text NOT NULL\n",
    "    );\n",
    "    \"\"\"\n",
    ")\n",
    "connection.execute(\"INSERT INTO fruits (nom) VALUES ('banane');\")\n",
    "connection.execute(\"INSERT INTO fruits (nom) VALUES ('poire');\")\n",
    "connection.execute(\"INSERT INTO fruits (nom) VALUES ('framboise');\")"
   ]
  },
  {
   "cell_type": "markdown",
   "metadata": {},
   "source": [
    "## Exécuter des requêtes et examiner les résultats"
   ]
  },
  {
   "cell_type": "markdown",
   "metadata": {},
   "source": [
    "Une requête renvoit un « curseur » :"
   ]
  },
  {
   "cell_type": "code",
   "execution_count": 33,
   "metadata": {},
   "outputs": [
    {
     "data": {
      "text/plain": [
       "<sqlite3.Cursor at 0x204ccd805e0>"
      ]
     },
     "execution_count": 33,
     "metadata": {},
     "output_type": "execute_result"
    }
   ],
   "source": [
    "cursor = connection.execute(\"SELECT * FROM fruits;\")\n",
    "cursor"
   ]
  },
  {
   "cell_type": "markdown",
   "metadata": {},
   "source": [
    "Le curseur permet de récupérer les résultats sous forme de tuples :"
   ]
  },
  {
   "cell_type": "code",
   "execution_count": 34,
   "metadata": {},
   "outputs": [
    {
     "name": "stdout",
     "output_type": "stream",
     "text": [
      "(1, 'banane')\n",
      "(2, 'poire')\n",
      "(3, 'framboise')\n",
      "(4, 'banane')\n",
      "(5, 'poire')\n",
      "(6, 'framboise')\n",
      "(7, 'pomme de reinette')\n",
      "(8, \"pomme d'api\")\n",
      "(9, 'banane')\n",
      "(10, 'poire')\n",
      "(11, 'framboise')\n"
     ]
    }
   ],
   "source": [
    "for row in cursor.fetchall():\n",
    "    print(row)"
   ]
  },
  {
   "cell_type": "markdown",
   "metadata": {},
   "source": [
    "## Requêtes paramétrées"
   ]
  },
  {
   "cell_type": "code",
   "execution_count": 35,
   "metadata": {},
   "outputs": [
    {
     "name": "stdout",
     "output_type": "stream",
     "text": [
      "INSERT INTO fruits (nom) VALUES ('pomme de reinette');\n",
      "INSERT INTO fruits (nom) VALUES ('pomme d'api');\n"
     ]
    },
    {
     "ename": "OperationalError",
     "evalue": "near \"api\": syntax error",
     "output_type": "error",
     "traceback": [
      "\u001b[1;31m---------------------------------------------------------------------------\u001b[0m",
      "\u001b[1;31mOperationalError\u001b[0m                          Traceback (most recent call last)",
      "\u001b[1;32m<ipython-input-35-8858285cdc04>\u001b[0m in \u001b[0;36m<module>\u001b[1;34m\u001b[0m\n\u001b[0;32m      2\u001b[0m     \u001b[0msql\u001b[0m \u001b[1;33m=\u001b[0m \u001b[1;34m\"INSERT INTO fruits (nom) VALUES ('{}');\"\u001b[0m\u001b[1;33m.\u001b[0m\u001b[0mformat\u001b[0m\u001b[1;33m(\u001b[0m\u001b[0mnom\u001b[0m\u001b[1;33m)\u001b[0m\u001b[1;33m\u001b[0m\u001b[1;33m\u001b[0m\u001b[0m\n\u001b[0;32m      3\u001b[0m     \u001b[0mprint\u001b[0m\u001b[1;33m(\u001b[0m\u001b[0msql\u001b[0m\u001b[1;33m)\u001b[0m\u001b[1;33m\u001b[0m\u001b[1;33m\u001b[0m\u001b[0m\n\u001b[1;32m----> 4\u001b[1;33m     \u001b[0mconnection\u001b[0m\u001b[1;33m.\u001b[0m\u001b[0mexecute\u001b[0m\u001b[1;33m(\u001b[0m\u001b[0msql\u001b[0m\u001b[1;33m)\u001b[0m  \u001b[1;31m# mauvaise idée !\u001b[0m\u001b[1;33m\u001b[0m\u001b[1;33m\u001b[0m\u001b[0m\n\u001b[0m",
      "\u001b[1;31mOperationalError\u001b[0m: near \"api\": syntax error"
     ]
    }
   ],
   "source": [
    "for nom in [\"pomme de reinette\", \"pomme d'api\"]:\n",
    "    sql = \"INSERT INTO fruits (nom) VALUES ('{}');\".format(nom)\n",
    "    print(sql)\n",
    "    connection.execute(sql)  # mauvaise idée !"
   ]
  },
  {
   "cell_type": "code",
   "execution_count": 38,
   "metadata": {},
   "outputs": [
    {
     "data": {
      "text/plain": [
       "<sqlite3.Cursor at 0x204ccd803b0>"
      ]
     },
     "execution_count": 38,
     "metadata": {},
     "output_type": "execute_result"
    }
   ],
   "source": [
    "for nom in [\"pomme d'api\"]:\n",
    "    connection.execute(\n",
    "        \"INSERT INTO fruits (nom) VALUES (?);\",\n",
    "        (nom,)\n",
    "    )  # laisser le driver injecter de manière sûre\n",
    "connection.execute(\"COMMIT;\")"
   ]
  },
  {
   "cell_type": "code",
   "execution_count": 43,
   "metadata": {},
   "outputs": [],
   "source": [
    "connection.executemany(\n",
    "    \"INSERT INTO fruits (nom) VALUES (?);\",\n",
    "    [\n",
    "        (\"ananas\",),\n",
    "        (\"clémentine\",),\n",
    "    ]\n",
    ")\n",
    "connection.commit()"
   ]
  },
  {
   "cell_type": "code",
   "execution_count": 44,
   "metadata": {},
   "outputs": [
    {
     "data": {
      "text/plain": [
       "[(1, 'banane'),\n",
       " (2, 'poire'),\n",
       " (3, 'framboise'),\n",
       " (4, 'banane'),\n",
       " (5, 'poire'),\n",
       " (6, 'framboise'),\n",
       " (7, 'pomme de reinette'),\n",
       " (8, \"pomme d'api\"),\n",
       " (9, 'banane'),\n",
       " (10, 'poire'),\n",
       " (11, 'framboise'),\n",
       " (12, 'pomme de reinette'),\n",
       " (13, \"pomme d'api\"),\n",
       " (14, \"pomme d'api\"),\n",
       " (15, 'ananas'),\n",
       " (16, 'clémentine'),\n",
       " (17, 'ananas'),\n",
       " (18, 'clémentine')]"
      ]
     },
     "execution_count": 44,
     "metadata": {},
     "output_type": "execute_result"
    }
   ],
   "source": [
    "cursor = connection.execute(\"SELECT * FROM fruits;\")\n",
    "cursor.fetchall()"
   ]
  },
  {
   "cell_type": "markdown",
   "metadata": {},
   "source": [
    "## Fermer la connexion"
   ]
  },
  {
   "cell_type": "code",
   "execution_count": 25,
   "metadata": {},
   "outputs": [],
   "source": [
    "connection.close()"
   ]
  },
  {
   "cell_type": "code",
   "execution_count": null,
   "metadata": {},
   "outputs": [],
   "source": []
  }
 ],
 "metadata": {
  "kernelspec": {
   "display_name": "Python 3",
   "language": "python",
   "name": "python3"
  },
  "language_info": {
   "codemirror_mode": {
    "name": "ipython",
    "version": 3
   },
   "file_extension": ".py",
   "mimetype": "text/x-python",
   "name": "python",
   "nbconvert_exporter": "python",
   "pygments_lexer": "ipython3",
   "version": "3.7.4"
  }
 },
 "nbformat": 4,
 "nbformat_minor": 4
}
