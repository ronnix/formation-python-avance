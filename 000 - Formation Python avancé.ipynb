{
 "cells": [
  {
   "cell_type": "markdown",
   "metadata": {
    "slideshow": {
     "slide_type": "slide"
    }
   },
   "source": [
    "# Développement avancé avec Python\n",
    "\n",
    "---\n",
    "\n",
    "## Ronan Amicel <br><small>(ronan@amicel.net)</small>\n",
    "\n",
    "### PLB Formation -- 9-11 décembre 2019 -- Levallois-Perret\n",
    "\n",
    "<!-- https://www.plb.fr/formation/developpement/formation-python,13-1106.php -->\n",
    "\n",
    "<br>\n",
    "<br>\n",
    "\n",
    "Licence : [CC-BY-SA 4.0](https://creativecommons.org/licenses/by-sa/4.0/deed.fr)"
   ]
  },
  {
   "cell_type": "markdown",
   "metadata": {
    "slideshow": {
     "slide_type": "skip"
    }
   },
   "source": [
    "## Agenda"
   ]
  },
  {
   "cell_type": "markdown",
   "metadata": {
    "slideshow": {
     "slide_type": "skip"
    }
   },
   "source": [
    "## Jour 1\n",
    "\n",
    "###  **Accueil**"
   ]
  },
  {
   "cell_type": "markdown",
   "metadata": {
    "slideshow": {
     "slide_type": "slide"
    }
   },
   "source": [
    "### **Module 1 : [Packager un projet Python](010%20-%20Packager%20un%20projet%20Python.ipynb)**\n",
    "- Packager son projet\n",
    "    - Application vs bibliothèque\n",
    "    - `setup.py`, `setup.cfg` et `pyproject.toml`\n",
    "    - outils de *scaffolding*\n",
    "- Gérer les dépendances de son application\n",
    "    - `setup.py` vs `requirements.txt`\n",
    "    - `pip-tools`, `pipenv`, `poetry`\n",
    "- Distribuer son projet\n",
    "    - Distribution source vs distribution binaire\n",
    "    - Créer des *wheels*\n",
    "    - Publier sur PyPI\n",
    "    - Générer une version autonome de son application\n",
    "- Compiler son code Python\n",
    "    - Motivations\n",
    "    - Principaux outils : `Cython`, `Numba`, `nuitka`"
   ]
  },
  {
   "cell_type": "markdown",
   "metadata": {
    "slideshow": {
     "slide_type": "slide"
    }
   },
   "source": [
    "### **Module 2 : [Manipulations avancées des primitives en Python](02%20-%20Manipulations%20avancées%20des%20primitives%20en%20Python.ipynb)**\n",
    "- Décorateurs\n",
    "    - décorateur simple\n",
    "    - décorateur paramétré\n",
    "    - décorateurs multiples\n",
    "    - décorateur et context manager à la fois\n",
    "- Classes personnalisées\n",
    "    - génération dynamique (*class factory*)\n",
    "    - métaclasses\n",
    "    - décorateurs de classes\n",
    "    - \\__init_subclass__\n",
    "- Générateurs et coroutines\n",
    "- Monkey patching\n",
    "    - patcher à la main\n",
    "    - patcher avec `unittest.mock.patch`\n",
    "- Introspection du code"
   ]
  },
  {
   "cell_type": "markdown",
   "metadata": {
    "slideshow": {
     "slide_type": "skip"
    }
   },
   "source": [
    "## Jour 2"
   ]
  },
  {
   "cell_type": "markdown",
   "metadata": {
    "slideshow": {
     "slide_type": "slide"
    }
   },
   "source": [
    "### **Module 3 : [Gestion des bases de données avec Python](030%20-%20Gestion%20des%20bases%20de%20données%20avec%20Python.ipynb)**\n",
    "\n",
    "- Vue d'ensemble des bases de données supportées\n",
    "    - bases relationnelles\n",
    "    - bases non relationnelles\n",
    "- Faire du SQL « à la main » avec la DB API\n",
    "- Utiliser SQLAlchemy\n",
    "    - Core : la boîte à outils SQL\n",
    "    - ORM : projeter ses tables vers des objets Python\n",
    "- Migrations avec Alembic"
   ]
  },
  {
   "cell_type": "markdown",
   "metadata": {
    "slideshow": {
     "slide_type": "slide"
    }
   },
   "source": [
    "### **Module 4 : [Concurrence et parallélisme](040%20-%20Concurrence%20et%20parallélisme.ipynb)**\n",
    "- Programmation non bloquante avec les threads\n",
    "    - Le GIL et les limites des threads\n",
    "- Exploiter plusieurs cœurs avec le multiprocessing\n",
    "- Entrées-sorties asynchrones avec `asyncio`"
   ]
  },
  {
   "cell_type": "markdown",
   "metadata": {
    "slideshow": {
     "slide_type": "skip"
    }
   },
   "source": [
    "## Jour 3"
   ]
  },
  {
   "cell_type": "markdown",
   "metadata": {
    "slideshow": {
     "slide_type": "slide"
    }
   },
   "source": [
    "### **Module 5 : [Programmation graphique](050%20-%20Programmation%20graphique.ipynb)**\n",
    "\n",
    "- Différentes solutions : Tkinter, Qt, GTK, wxWidgets et Kivy\n",
    "    - cas d'usage\n",
    "    - avantages et inconvénients\n",
    "- Mise en pratique\n",
    "    - création des éléments d'interface\n",
    "    - mise en page (*layout*)\n",
    "    - réaction aux actions de l'utilisateur"
   ]
  },
  {
   "cell_type": "markdown",
   "metadata": {
    "slideshow": {
     "slide_type": "slide"
    }
   },
   "source": [
    "### **Module 6 : [Développement web avec Python](060%20-%20Développement%20web%20avec%20Python.ipynb)**\n",
    "\n",
    "- Frameworks les plus populaires : Django, Flask, Pyramid…\n",
    "- Principes\n",
    "    - le protocole HTTP\n",
    "    - le cycle requête / réponse\n",
    "    - les normes WSGI et ASGI\n",
    "- Mise en œuvre avec Flask"
   ]
  }
 ],
 "metadata": {
  "celltoolbar": "Aucun(e)",
  "kernelspec": {
   "display_name": "Python 3",
   "language": "python",
   "name": "python3"
  },
  "language_info": {
   "codemirror_mode": {
    "name": "ipython",
    "version": 3
   },
   "file_extension": ".py",
   "mimetype": "text/x-python",
   "name": "python",
   "nbconvert_exporter": "python",
   "pygments_lexer": "ipython3",
   "version": "3.7.2"
  }
 },
 "nbformat": 4,
 "nbformat_minor": 2
}
