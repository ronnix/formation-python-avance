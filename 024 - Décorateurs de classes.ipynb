{
 "cells": [
  {
   "cell_type": "markdown",
   "metadata": {},
   "source": [
    "# Décorateurs de classes"
   ]
  },
  {
   "cell_type": "code",
   "execution_count": null,
   "metadata": {},
   "outputs": [],
   "source": [
    "from functools import wraps\n",
    "\n",
    "# On a un décorateur de fonction\n",
    "def log_calls(func):\n",
    "    @wraps(func)\n",
    "    def wrapper(self, *args, **kwargs):\n",
    "        if getattr(self, \"_debug\", None):\n",
    "            print(f\"{func.__name__}(args={args}, kwargs={kwargs})\")\n",
    "        return func(self, *args, **kwargs)\n",
    "    return wrapper"
   ]
  },
  {
   "cell_type": "code",
   "execution_count": null,
   "metadata": {},
   "outputs": [],
   "source": [
    "def log_all_calls(cls):\n",
    "\n",
    "    # On étend le constructeur avec un paramètre supplémentaire\n",
    "    original_init = cls.__init__\n",
    "    def __init__(self, *args, debug=False, **kwargs):\n",
    "        self._debug = debug\n",
    "        original_init(self, *args, **kwargs)\n",
    "    cls.__init__ = __init__\n",
    "    \n",
    "    # Et on emballe toutes les méthodes avec\n",
    "    for name in cls.__dict__:\n",
    "        attr = getattr(cls, name)\n",
    "        if callable(attr):\n",
    "            setattr(cls, name, log_calls(attr))\n",
    "\n",
    "    return cls"
   ]
  },
  {
   "cell_type": "code",
   "execution_count": null,
   "metadata": {},
   "outputs": [],
   "source": [
    "@log_all_calls\n",
    "class X:\n",
    "    def f(self, a, b):\n",
    "        pass"
   ]
  },
  {
   "cell_type": "code",
   "execution_count": null,
   "metadata": {},
   "outputs": [],
   "source": [
    "x = X()\n",
    "x.f(3, 4)"
   ]
  },
  {
   "cell_type": "code",
   "execution_count": null,
   "metadata": {},
   "outputs": [],
   "source": [
    "x.f(3, 4)"
   ]
  },
  {
   "cell_type": "markdown",
   "metadata": {},
   "source": [
    "## Références\n",
    "\n",
    "- [Practical decorators (PyCon 2019)](https://speakerdeck.com/pycon2019/reuven-m-lerner-practical-decorators)"
   ]
  }
 ],
 "metadata": {
  "kernelspec": {
   "display_name": "Python 3",
   "language": "python",
   "name": "python3"
  },
  "language_info": {
   "codemirror_mode": {
    "name": "ipython",
    "version": 3
   },
   "file_extension": ".py",
   "mimetype": "text/x-python",
   "name": "python",
   "nbconvert_exporter": "python",
   "pygments_lexer": "ipython3",
   "version": "3.7.4"
  }
 },
 "nbformat": 4,
 "nbformat_minor": 4
}
