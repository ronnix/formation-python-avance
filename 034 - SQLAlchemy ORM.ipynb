{
 "cells": [
  {
   "cell_type": "markdown",
   "metadata": {},
   "source": [
    "# SQLAlchemy ORM"
   ]
  },
  {
   "cell_type": "markdown",
   "metadata": {},
   "source": [
    "Comme précédemment, on aura besoin d'un *engine* pour parler à la base de données :"
   ]
  },
  {
   "cell_type": "code",
   "execution_count": 1,
   "metadata": {},
   "outputs": [],
   "source": [
    "from sqlalchemy import create_engine\n",
    "\n",
    "engine = create_engine(\"sqlite:///:memory:\", echo=True)"
   ]
  },
  {
   "cell_type": "markdown",
   "metadata": {},
   "source": [
    "## Créer des tables\n",
    "\n",
    "Cette fois-ci on ne va pas déclarer les tables explicitements, mais les générer automatiquement à partir des classes Python correspondantes :"
   ]
  },
  {
   "cell_type": "code",
   "execution_count": 2,
   "metadata": {},
   "outputs": [],
   "source": [
    "from sqlalchemy import Column, Integer, String\n",
    "from sqlalchemy.ext.declarative import declarative_base\n",
    "\n",
    "Base = declarative_base()\n",
    "\n",
    "class Fruit(Base):\n",
    "    __tablename__ = 'fruits'\n",
    "\n",
    "    id = Column(Integer, primary_key=True)\n",
    "    nom = Column(String)\n",
    "    \n",
    "    def __repr__(self):\n",
    "        return f\"<Fruit(nom={self.nom})>\""
   ]
  },
  {
   "cell_type": "markdown",
   "metadata": {},
   "source": [
    "On peut retrouver la définition de la table :"
   ]
  },
  {
   "cell_type": "code",
   "execution_count": 3,
   "metadata": {
    "scrolled": true
   },
   "outputs": [
    {
     "data": {
      "text/plain": [
       "Table('fruits', MetaData(bind=None), Column('id', Integer(), table=<fruits>, primary_key=True, nullable=False), Column('nom', String(), table=<fruits>), schema=None)"
      ]
     },
     "execution_count": 3,
     "metadata": {},
     "output_type": "execute_result"
    }
   ],
   "source": [
    "Fruit.__table__"
   ]
  },
  {
   "cell_type": "markdown",
   "metadata": {},
   "source": [
    "Et pour créer les tables en base, comme précédemment :"
   ]
  },
  {
   "cell_type": "code",
   "execution_count": 4,
   "metadata": {},
   "outputs": [
    {
     "name": "stdout",
     "output_type": "stream",
     "text": [
      "2019-12-04 23:23:31,226 INFO sqlalchemy.engine.base.Engine SELECT CAST('test plain returns' AS VARCHAR(60)) AS anon_1\n",
      "2019-12-04 23:23:31,227 INFO sqlalchemy.engine.base.Engine ()\n",
      "2019-12-04 23:23:31,228 INFO sqlalchemy.engine.base.Engine SELECT CAST('test unicode returns' AS VARCHAR(60)) AS anon_1\n",
      "2019-12-04 23:23:31,228 INFO sqlalchemy.engine.base.Engine ()\n",
      "2019-12-04 23:23:31,229 INFO sqlalchemy.engine.base.Engine PRAGMA main.table_info(\"fruits\")\n",
      "2019-12-04 23:23:31,229 INFO sqlalchemy.engine.base.Engine ()\n",
      "2019-12-04 23:23:31,230 INFO sqlalchemy.engine.base.Engine PRAGMA temp.table_info(\"fruits\")\n",
      "2019-12-04 23:23:31,230 INFO sqlalchemy.engine.base.Engine ()\n",
      "2019-12-04 23:23:31,231 INFO sqlalchemy.engine.base.Engine \n",
      "CREATE TABLE fruits (\n",
      "\tid INTEGER NOT NULL, \n",
      "\tnom VARCHAR, \n",
      "\tPRIMARY KEY (id)\n",
      ")\n",
      "\n",
      "\n",
      "2019-12-04 23:23:31,232 INFO sqlalchemy.engine.base.Engine ()\n",
      "2019-12-04 23:23:31,232 INFO sqlalchemy.engine.base.Engine COMMIT\n"
     ]
    }
   ],
   "source": [
    "Base.metadata.create_all(engine)"
   ]
  },
  {
   "cell_type": "markdown",
   "metadata": {},
   "source": [
    "## L'élément clé : la session\n",
    "\n",
    "Pour gérer la correspondance entre les lignes des tables dans la base et les objets Python, on va avoir besoin d'un objet qu'on appelle la **session**."
   ]
  },
  {
   "cell_type": "code",
   "execution_count": 5,
   "metadata": {
    "scrolled": true
   },
   "outputs": [],
   "source": [
    "from sqlalchemy.orm import sessionmaker\n",
    "\n",
    "Session = sessionmaker(bind=engine)  # étape 1 : créer une « session factory »\n",
    "\n",
    "db_session = Session()  # étape 2 : instancier une session"
   ]
  },
  {
   "cell_type": "markdown",
   "metadata": {},
   "source": [
    "## Insérer des données"
   ]
  },
  {
   "cell_type": "code",
   "execution_count": 6,
   "metadata": {},
   "outputs": [],
   "source": [
    "for nom in [\"pomme\", \"banane\", \"kiwi\"]:\n",
    "    fruit = Fruit(nom=nom)\n",
    "    db_session.add(fruit)  # la session enregistre cet objet comme étant nouveau"
   ]
  },
  {
   "cell_type": "code",
   "execution_count": 7,
   "metadata": {},
   "outputs": [
    {
     "name": "stdout",
     "output_type": "stream",
     "text": [
      "2019-12-04 23:23:31,253 INFO sqlalchemy.engine.base.Engine BEGIN (implicit)\n",
      "2019-12-04 23:23:31,254 INFO sqlalchemy.engine.base.Engine INSERT INTO fruits (nom) VALUES (?)\n",
      "2019-12-04 23:23:31,254 INFO sqlalchemy.engine.base.Engine ('pomme',)\n",
      "2019-12-04 23:23:31,255 INFO sqlalchemy.engine.base.Engine INSERT INTO fruits (nom) VALUES (?)\n",
      "2019-12-04 23:23:31,256 INFO sqlalchemy.engine.base.Engine ('banane',)\n",
      "2019-12-04 23:23:31,257 INFO sqlalchemy.engine.base.Engine INSERT INTO fruits (nom) VALUES (?)\n",
      "2019-12-04 23:23:31,257 INFO sqlalchemy.engine.base.Engine ('kiwi',)\n",
      "2019-12-04 23:23:31,258 INFO sqlalchemy.engine.base.Engine COMMIT\n"
     ]
    }
   ],
   "source": [
    "db_session.commit()  # les nouveau objets sont insérés en base"
   ]
  },
  {
   "cell_type": "markdown",
   "metadata": {},
   "source": [
    "## Récupérer des données"
   ]
  },
  {
   "cell_type": "code",
   "execution_count": 8,
   "metadata": {},
   "outputs": [
    {
     "name": "stdout",
     "output_type": "stream",
     "text": [
      "2019-12-04 23:23:31,263 INFO sqlalchemy.engine.base.Engine BEGIN (implicit)\n",
      "2019-12-04 23:23:31,264 INFO sqlalchemy.engine.base.Engine SELECT fruits.id AS fruits_id, fruits.nom AS fruits_nom \n",
      "FROM fruits \n",
      "WHERE fruits.nom = ?\n",
      "2019-12-04 23:23:31,265 INFO sqlalchemy.engine.base.Engine ('pomme',)\n"
     ]
    },
    {
     "data": {
      "text/plain": [
       "<Fruit(nom=pomme)>"
      ]
     },
     "execution_count": 8,
     "metadata": {},
     "output_type": "execute_result"
    }
   ],
   "source": [
    "pomme = db_session.query(Fruit).filter_by(nom=\"pomme\").one()\n",
    "pomme"
   ]
  },
  {
   "cell_type": "markdown",
   "metadata": {},
   "source": [
    "## Modifier des données"
   ]
  },
  {
   "cell_type": "code",
   "execution_count": 9,
   "metadata": {},
   "outputs": [],
   "source": [
    "pomme.nom = \"poire\""
   ]
  },
  {
   "cell_type": "code",
   "execution_count": 10,
   "metadata": {},
   "outputs": [
    {
     "name": "stdout",
     "output_type": "stream",
     "text": [
      "2019-12-04 23:24:13,242 INFO sqlalchemy.engine.base.Engine UPDATE fruits SET nom=? WHERE fruits.id = ?\n",
      "2019-12-04 23:24:13,244 INFO sqlalchemy.engine.base.Engine ('poire', 1)\n",
      "2019-12-04 23:24:13,249 INFO sqlalchemy.engine.base.Engine COMMIT\n"
     ]
    }
   ],
   "source": [
    "db_session.commit()"
   ]
  },
  {
   "cell_type": "markdown",
   "metadata": {},
   "source": [
    "## Relations\n",
    "\n",
    "Ajoutons une autre classe, et une relation avec la première :"
   ]
  },
  {
   "cell_type": "code",
   "execution_count": 12,
   "metadata": {},
   "outputs": [
    {
     "name": "stdout",
     "output_type": "stream",
     "text": [
      "2019-12-04 23:30:59,096 INFO sqlalchemy.engine.base.Engine PRAGMA main.table_info(\"fruits\")\n",
      "2019-12-04 23:30:59,098 INFO sqlalchemy.engine.base.Engine ()\n",
      "2019-12-04 23:30:59,101 INFO sqlalchemy.engine.base.Engine PRAGMA main.table_info(\"barquettes\")\n",
      "2019-12-04 23:30:59,102 INFO sqlalchemy.engine.base.Engine ()\n",
      "2019-12-04 23:30:59,103 INFO sqlalchemy.engine.base.Engine PRAGMA temp.table_info(\"barquettes\")\n",
      "2019-12-04 23:30:59,104 INFO sqlalchemy.engine.base.Engine ()\n",
      "2019-12-04 23:30:59,106 INFO sqlalchemy.engine.base.Engine \n",
      "CREATE TABLE barquettes (\n",
      "\tid INTEGER NOT NULL, \n",
      "\tfruit_id INTEGER NOT NULL, \n",
      "\t\"quantité\" INTEGER NOT NULL, \n",
      "\tPRIMARY KEY (id), \n",
      "\tFOREIGN KEY(fruit_id) REFERENCES fruits (id)\n",
      ")\n",
      "\n",
      "\n",
      "2019-12-04 23:30:59,107 INFO sqlalchemy.engine.base.Engine ()\n",
      "2019-12-04 23:30:59,108 INFO sqlalchemy.engine.base.Engine COMMIT\n"
     ]
    }
   ],
   "source": [
    "from sqlalchemy import ForeignKey\n",
    "from sqlalchemy.orm import relationship\n",
    "\n",
    "class Barquette(Base):\n",
    "    __tablename__ = \"barquettes\"\n",
    "\n",
    "    id = Column(Integer, primary_key=True)\n",
    "    fruit_id = Column(Integer, ForeignKey(\"fruits.id\"), nullable=False)  # clé étrangère\n",
    "    quantité = Column(Integer, nullable=False)\n",
    "\n",
    "    fruit = relationship(Fruit)\n",
    "\n",
    "Base.metadata.create_all(engine)"
   ]
  },
  {
   "cell_type": "code",
   "execution_count": 17,
   "metadata": {},
   "outputs": [],
   "source": [
    "kaki = Fruit(nom=\"kaki\")\n",
    "barquette = Barquette(fruit=kaki, quantité=4)"
   ]
  },
  {
   "cell_type": "code",
   "execution_count": 18,
   "metadata": {},
   "outputs": [],
   "source": [
    "db_session.add(barquette)"
   ]
  },
  {
   "cell_type": "code",
   "execution_count": 19,
   "metadata": {},
   "outputs": [
    {
     "name": "stdout",
     "output_type": "stream",
     "text": [
      "2019-12-04 23:33:35,266 INFO sqlalchemy.engine.base.Engine INSERT INTO fruits (nom) VALUES (?)\n",
      "2019-12-04 23:33:35,268 INFO sqlalchemy.engine.base.Engine ('kaki',)\n",
      "2019-12-04 23:33:35,274 INFO sqlalchemy.engine.base.Engine INSERT INTO barquettes (fruit_id, \"quantité\") VALUES (?, ?)\n",
      "2019-12-04 23:33:35,275 INFO sqlalchemy.engine.base.Engine (4, 4)\n",
      "2019-12-04 23:33:35,278 INFO sqlalchemy.engine.base.Engine COMMIT\n"
     ]
    }
   ],
   "source": [
    "db_session.commit()"
   ]
  },
  {
   "cell_type": "markdown",
   "metadata": {},
   "source": [
    "## Références\n",
    "\n",
    "- https://docs.sqlalchemy.org/en/13/orm/tutorial.html\n",
    "- https://www.martinfowler.com/eaaCatalog/unitOfWork.html\n",
    "- https://learning.oreilly.com/library/view/essential-sqlalchemy-2nd/9781491916544/"
   ]
  },
  {
   "cell_type": "code",
   "execution_count": null,
   "metadata": {},
   "outputs": [],
   "source": []
  }
 ],
 "metadata": {
  "kernelspec": {
   "display_name": "Python 3",
   "language": "python",
   "name": "python3"
  },
  "language_info": {
   "codemirror_mode": {
    "name": "ipython",
    "version": 3
   },
   "file_extension": ".py",
   "mimetype": "text/x-python",
   "name": "python",
   "nbconvert_exporter": "python",
   "pygments_lexer": "ipython3",
   "version": "3.7.2"
  }
 },
 "nbformat": 4,
 "nbformat_minor": 2
}
