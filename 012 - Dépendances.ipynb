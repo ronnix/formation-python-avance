{
 "cells": [
  {
   "cell_type": "markdown",
   "metadata": {},
   "source": [
    "# Gérer les dépendances de son application"
   ]
  },
  {
   "cell_type": "markdown",
   "metadata": {},
   "source": [
    "## `setup.py` vs `requirements.txt`\n",
    "\n",
    "- bibliothèque : seulement un `setup.py`\n",
    "- application : `setup.py` pour les contraintes **et** `requirements.txt` pour l'installation reproductible d'un ensemble de versions bien spécifique (dépendances directes et indirectes)\n",
    "\n",
    "## pip et virtualenv\n",
    "Les outils de base.\n",
    "\n",
    "## Outillage de plus haut niveau\n",
    "### pip-tools\n",
    "Facilite la gestion des mises à jour : https://pypi.org/project/pip-tools/\n",
    "\n",
    "### pipenv et poetry\n",
    "Outils *opinionated* qui intègrent pip et virtualenv pour faciliter les tâches courantes : \n",
    "- https://pipenv.readthedocs.io/\n",
    "- https://poetry.eustace.io/"
   ]
  }
 ],
 "metadata": {
  "kernelspec": {
   "display_name": "Python 3",
   "language": "python",
   "name": "python3"
  },
  "language_info": {
   "codemirror_mode": {
    "name": "ipython",
    "version": 3
   },
   "file_extension": ".py",
   "mimetype": "text/x-python",
   "name": "python",
   "nbconvert_exporter": "python",
   "pygments_lexer": "ipython3",
   "version": "3.7.2"
  }
 },
 "nbformat": 4,
 "nbformat_minor": 2
}
