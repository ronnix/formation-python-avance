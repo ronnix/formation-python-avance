{
 "cells": [
  {
   "cell_type": "markdown",
   "metadata": {},
   "source": [
    "# Module 2 : Manipulations avancées des primitives en Python\n",
    "\n",
    "- [**Décorateurs**](021%20-%20Décorateurs.ipynb)\n",
    "    - décorateur simple\n",
    "    - décorateur paramétré\n",
    "    - décorateurs multiples\n",
    "    - décorateur et context manager à la fois\n",
    "- **Classes personnalisées**\n",
    "    - [génération dynamique](022%20-%20Factory.ipynb) (*class factory*)\n",
    "    - [métaclasses](023%20-%20Métaclasses.ipynb)\n",
    "    - [décorateurs de classes](024%20-%20Décorateurs%20de%20classes.ipynb)\n",
    "    - [\\__init_subclass__](025%20-%20init_subclass.ipynb)\n",
    "- [**Générateurs et coroutines**](026%20-%20Générateurs%20et%20coroutines.ipynb)\n",
    "- [**Monkey patching**](027%20-%20Monkey%20patching.ipynb)\n",
    "    - patcher à la main\n",
    "    - patcher avec `unittest.mock.patch`\n",
    "- [**Introspection du code**](028%20-%20introspection.ipynb)"
   ]
  }
 ],
 "metadata": {
  "kernelspec": {
   "display_name": "Python 3",
   "language": "python",
   "name": "python3"
  },
  "language_info": {
   "codemirror_mode": {
    "name": "ipython",
    "version": 3
   },
   "file_extension": ".py",
   "mimetype": "text/x-python",
   "name": "python",
   "nbconvert_exporter": "python",
   "pygments_lexer": "ipython3",
   "version": "3.7.2"
  }
 },
 "nbformat": 4,
 "nbformat_minor": 2
}
