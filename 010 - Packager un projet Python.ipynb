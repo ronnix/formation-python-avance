{
 "cells": [
  {
   "cell_type": "markdown",
   "metadata": {},
   "source": [
    "# Module 1 : Packager un projet Python\n",
    "\n",
    "- [**Packager son projet**](011%20-%20Packager.ipynb)\n",
    "    - Application vs bibliothèque\n",
    "    - `setup.py`, `setup.cfg` et `pyproject.toml`\n",
    "    - outils de *scaffolding*\n",
    "- [**Gérer les dépendances de son application**](012%20-%20Dépendances.ipynb)\n",
    "    - `setup.py` vs `requirements.txt`\n",
    "    - `pip-tools`, `pipenv`, `poetry`\n",
    "- [**Distribuer son projet**](013%20-%20Distribuer.ipynb)\n",
    "    - Distribution source vs distribution binaire\n",
    "    - Créer des *wheels*\n",
    "    - Publier sur PyPI\n",
    "    - Générer une version autonome de son application\n",
    "- [**Compiler son code Python**](014%20-%20Compiler.ipynb)\n",
    "    - Motivations\n",
    "    - Principaux outils : `Cython`, `Numba`, `nuitka`"
   ]
  },
  {
   "cell_type": "markdown",
   "metadata": {},
   "source": [
    "## Références\n",
    "\n",
    "- https://docs.python-guide.org/dev/virtualenvs/\n"
   ]
  }
 ],
 "metadata": {
  "kernelspec": {
   "display_name": "Python 3",
   "language": "python",
   "name": "python3"
  },
  "language_info": {
   "codemirror_mode": {
    "name": "ipython",
    "version": 3
   },
   "file_extension": ".py",
   "mimetype": "text/x-python",
   "name": "python",
   "nbconvert_exporter": "python",
   "pygments_lexer": "ipython3",
   "version": "3.7.2"
  }
 },
 "nbformat": 4,
 "nbformat_minor": 2
}
