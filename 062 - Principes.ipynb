{
 "cells": [
  {
   "cell_type": "markdown",
   "metadata": {},
   "source": [
    "# Principes\n",
    "\n",
    "## Le protocole HTTP\n",
    "\n",
    "→ regardons l'inspecteur web du navigateur\n",
    "\n",
    "## Le cycle requête-réponse\n",
    "\n",
    "→ schéma au tableau\n",
    "\n",
    "## Les normes WSGI et ASGI\n",
    "\n",
    "- [PEP 3333](https://www.python.org/dev/peps/pep-3333/) -- Python Web Server Gateway Interface v1.0.1\n",
    "\n",
    "- [ASGI](https://asgi.readthedocs.io/)"
   ]
  }
 ],
 "metadata": {
  "kernelspec": {
   "display_name": "Python 3",
   "language": "python",
   "name": "python3"
  },
  "language_info": {
   "codemirror_mode": {
    "name": "ipython",
    "version": 3
   },
   "file_extension": ".py",
   "mimetype": "text/x-python",
   "name": "python",
   "nbconvert_exporter": "python",
   "pygments_lexer": "ipython3",
   "version": "3.7.2"
  }
 },
 "nbformat": 4,
 "nbformat_minor": 2
}
