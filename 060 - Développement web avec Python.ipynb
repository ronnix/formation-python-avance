{
 "cells": [
  {
   "cell_type": "markdown",
   "metadata": {},
   "source": [
    "# Module 6 : Développement web avec Python\n",
    "\n",
    "- [Frameworks les plus populaires : Django, Flask, Pyramid…](061%20-%20Frameworks.ipynb)\n",
    "- [Principes](062%20-%20Principes.ipynb)\n",
    "    - le protocole HTTP\n",
    "    - le cycle requête / réponse\n",
    "    - les normes WSGI et ASGI\n",
    "- Mise en œuvre avec Flask"
   ]
  }
 ],
 "metadata": {
  "kernelspec": {
   "display_name": "Python 3",
   "language": "python",
   "name": "python3"
  },
  "language_info": {
   "codemirror_mode": {
    "name": "ipython",
    "version": 3
   },
   "file_extension": ".py",
   "mimetype": "text/x-python",
   "name": "python",
   "nbconvert_exporter": "python",
   "pygments_lexer": "ipython3",
   "version": "3.7.4"
  }
 },
 "nbformat": 4,
 "nbformat_minor": 4
}
